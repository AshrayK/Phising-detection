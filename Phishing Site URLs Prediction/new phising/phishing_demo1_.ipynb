{
  "cells": [
    {
      "cell_type": "markdown",
      "metadata": {
        "id": "QYFaNT4QH9Vj",
        "papermill": {
          "duration": 0.035205,
          "end_time": "2020-11-21T06:33:13.502886",
          "exception": false,
          "start_time": "2020-11-21T06:33:13.467681",
          "status": "completed"
        },
        "tags": []
      },
      "source": [
        "### * **What is a phishing attack?**\n",
        "* Phishing is a type of social engineering attack often used to steal user data, including login credentials and credit card numbers. It occurs when an attacker, masquerading as a trusted entity, dupes a victim into opening an email, instant message, or text message. "
      ]
    },
    {
      "cell_type": "markdown",
      "metadata": {
        "id": "ZFR6LnlHH9Vo",
        "papermill": {
          "duration": 0.034848,
          "end_time": "2020-11-21T06:33:13.713729",
          "exception": false,
          "start_time": "2020-11-21T06:33:13.678881",
          "status": "completed"
        },
        "tags": []
      },
      "source": [
        "##### * Importing some useful libraries"
      ]
    },
    {
      "cell_type": "code",
      "execution_count": 12,
      "metadata": {
        "colab": {
          "base_uri": "https://localhost:8080/"
        },
        "execution": {
          "iopub.execute_input": "2020-11-21T06:33:13.789742Z",
          "iopub.status.busy": "2020-11-21T06:33:13.789113Z",
          "iopub.status.idle": "2020-11-21T06:33:22.729362Z",
          "shell.execute_reply": "2020-11-21T06:33:22.728761Z"
        },
        "id": "_WNO2nTGH9Vp",
        "outputId": "2b0fb9f3-601c-4c80-ff84-8055d72b337d",
        "papermill": {
          "duration": 8.979884,
          "end_time": "2020-11-21T06:33:22.729479",
          "exception": false,
          "start_time": "2020-11-21T06:33:13.749595",
          "status": "completed"
        },
        "tags": []
      },
      "outputs": [
        {
          "name": "stdout",
          "output_type": "stream",
          "text": [
            "Requirement already satisfied: selenium in c:\\users\\hp\\appdata\\local\\programs\\python\\python39\\lib\\site-packages (4.1.0)\n",
            "Requirement already satisfied: trio-websocket~=0.9 in c:\\users\\hp\\appdata\\local\\programs\\python\\python39\\lib\\site-packages (from selenium) (0.9.2)\n",
            "Requirement already satisfied: urllib3[secure]~=1.26 in c:\\users\\hp\\appdata\\local\\programs\\python\\python39\\lib\\site-packages (from selenium) (1.26.8)\n",
            "Requirement already satisfied: trio~=0.17 in c:\\users\\hp\\appdata\\local\\programs\\python\\python39\\lib\\site-packages (from selenium) (0.19.0)\n",
            "Requirement already satisfied: cffi>=1.14 in c:\\users\\hp\\appdata\\local\\programs\\python\\python39\\lib\\site-packages (from trio~=0.17->selenium) (1.15.0)\n",
            "Requirement already satisfied: sniffio in c:\\users\\hp\\appdata\\local\\programs\\python\\python39\\lib\\site-packages (from trio~=0.17->selenium) (1.2.0)\n",
            "Requirement already satisfied: attrs>=19.2.0 in c:\\users\\hp\\appdata\\local\\programs\\python\\python39\\lib\\site-packages (from trio~=0.17->selenium) (21.4.0)\n",
            "Requirement already satisfied: sortedcontainers in c:\\users\\hp\\appdata\\local\\programs\\python\\python39\\lib\\site-packages (from trio~=0.17->selenium) (2.4.0)\n",
            "Requirement already satisfied: async-generator>=1.9 in c:\\users\\hp\\appdata\\local\\programs\\python\\python39\\lib\\site-packages (from trio~=0.17->selenium) (1.10)\n",
            "Requirement already satisfied: outcome in c:\\users\\hp\\appdata\\local\\programs\\python\\python39\\lib\\site-packages (from trio~=0.17->selenium) (1.1.0)\n",
            "Requirement already satisfied: idna in c:\\users\\hp\\appdata\\local\\programs\\python\\python39\\lib\\site-packages (from trio~=0.17->selenium) (2.10)\n",
            "Requirement already satisfied: wsproto>=0.14 in c:\\users\\hp\\appdata\\local\\programs\\python\\python39\\lib\\site-packages (from trio-websocket~=0.9->selenium) (1.0.0)\n",
            "Requirement already satisfied: pyOpenSSL>=0.14 in c:\\users\\hp\\appdata\\local\\programs\\python\\python39\\lib\\site-packages (from urllib3[secure]~=1.26->selenium) (21.0.0)"
          ]
        },
        {
          "name": "stderr",
          "output_type": "stream",
          "text": [
            "WARNING: You are using pip version 22.0.3; however, version 22.0.4 is available.\n",
            "You should consider upgrading via the 'C:\\Users\\hp\\AppData\\Local\\Programs\\Python\\Python39\\python.exe -m pip install --upgrade pip' command.\n"
          ]
        },
        {
          "name": "stdout",
          "output_type": "stream",
          "text": [
            "\n",
            "Requirement already satisfied: cryptography>=1.3.4 in c:\\users\\hp\\appdata\\local\\programs\\python\\python39\\lib\\site-packages (from urllib3[secure]~=1.26->selenium) (36.0.1)\n",
            "Requirement already satisfied: certifi in c:\\users\\hp\\appdata\\local\\programs\\python\\python39\\lib\\site-packages (from urllib3[secure]~=1.26->selenium) (2021.10.8)\n",
            "Requirement already satisfied: pycparser in c:\\users\\hp\\appdata\\local\\programs\\python\\python39\\lib\\site-packages (from cffi>=1.14->trio~=0.17->selenium) (2.21)\n",
            "Requirement already satisfied: six>=1.5.2 in c:\\users\\hp\\appdata\\local\\programs\\python\\python39\\lib\\site-packages (from pyOpenSSL>=0.14->urllib3[secure]~=1.26->selenium) (1.16.0)\n",
            "Requirement already satisfied: h11<1,>=0.9.0 in c:\\users\\hp\\appdata\\local\\programs\\python\\python39\\lib\\site-packages (from wsproto>=0.14->trio-websocket~=0.9->selenium) (0.13.0)\n"
          ]
        }
      ],
      "source": [
        "!pip install selenium"
      ]
    },
    {
      "cell_type": "code",
      "execution_count": 13,
      "metadata": {
        "_cell_guid": "79c7e3d0-c299-4dcb-8224-4455121ee9b0",
        "_uuid": "d629ff2d2480ee46fbb7e2d37f6b5fab8052498a",
        "execution": {
          "iopub.execute_input": "2020-11-21T06:33:22.826583Z",
          "iopub.status.busy": "2020-11-21T06:33:22.822508Z",
          "iopub.status.idle": "2020-11-21T06:33:26.095195Z",
          "shell.execute_reply": "2020-11-21T06:33:26.094508Z"
        },
        "id": "746wp8FoH9Vp",
        "papermill": {
          "duration": 3.322309,
          "end_time": "2020-11-21T06:33:26.095328",
          "exception": false,
          "start_time": "2020-11-21T06:33:22.773019",
          "status": "completed"
        },
        "tags": []
      },
      "outputs": [],
      "source": [
        "import pandas as pd # use for data manipulation and analysis\n",
        "import numpy as np # use for multi-dimensional array and matrix\n",
        "\n",
        "import seaborn as sns # use for high-level interface for drawing attractive and informative statistical graphics \n",
        "import matplotlib.pyplot as plt # It provides an object-oriented API for embedding plots into applications\n",
        "%matplotlib inline \n",
        "# It sets the backend of matplotlib to the 'inline' backend:\n",
        "import plotly.express as px\n",
        "import time # calculate time \n",
        "\n",
        "from sklearn.linear_model import LogisticRegression # algo use to predict good or bad\n",
        "from sklearn.naive_bayes import MultinomialNB # nlp algo use to predict good or bad\n",
        "\n",
        "from sklearn.model_selection import train_test_split # spliting the data between feature and target\n",
        "from sklearn.metrics import classification_report # gives whole report about metrics (e.g, recall,precision,f1_score,c_m)\n",
        "from sklearn.metrics import confusion_matrix # gives info about actual and predict\n",
        "from nltk.tokenize import RegexpTokenizer # regexp tokenizers use to split words from text  \n",
        "from nltk.stem.snowball import SnowballStemmer # stemmes words\n",
        "from sklearn.feature_extraction.text import CountVectorizer # create sparse matrix of words using regexptokenizes  \n",
        "from sklearn.pipeline import make_pipeline # use for combining all prerocessors techniuqes and algos\n",
        "\n",
        "from PIL import Image # getting images in notebook\n",
        "from wordcloud import WordCloud, STOPWORDS, ImageColorGenerator# creates words colud\n",
        "\n",
        "from bs4 import BeautifulSoup # use for scraping the data from website\n",
        "from selenium import webdriver # use for automation chrome \n",
        "import networkx as nx # for the creation, manipulation, and study of the structure, dynamics, and functions of complex networks.\n",
        "\n",
        "import pickle# use to dump model \n",
        "\n",
        "import warnings # ignores pink warnings \n",
        "warnings.filterwarnings('ignore')"
      ]
    },
    {
      "cell_type": "code",
      "execution_count": 14,
      "metadata": {
        "execution": {
          "iopub.execute_input": "2020-11-21T06:33:26.189221Z",
          "iopub.status.busy": "2020-11-21T06:33:26.188531Z",
          "iopub.status.idle": "2020-11-21T06:33:27.457683Z",
          "shell.execute_reply": "2020-11-21T06:33:27.457015Z"
        },
        "id": "bLN42K20H9Vq",
        "papermill": {
          "duration": 1.322082,
          "end_time": "2020-11-21T06:33:27.457799",
          "exception": false,
          "start_time": "2020-11-21T06:33:26.135717",
          "status": "completed"
        },
        "tags": []
      },
      "outputs": [],
      "source": [
        "# Loading the dataset\n",
        "phish_data = pd.read_csv('phishing_site_urls.csv')"
      ]
    },
    {
      "cell_type": "code",
      "execution_count": 15,
      "metadata": {
        "colab": {
          "base_uri": "https://localhost:8080/",
          "height": 206
        },
        "execution": {
          "iopub.execute_input": "2020-11-21T06:33:27.549500Z",
          "iopub.status.busy": "2020-11-21T06:33:27.548831Z",
          "iopub.status.idle": "2020-11-21T06:33:27.556421Z",
          "shell.execute_reply": "2020-11-21T06:33:27.555899Z"
        },
        "id": "cyRpDmRNH9Vq",
        "outputId": "fcd7a8fb-c833-4a43-d882-80fd0e679df1",
        "papermill": {
          "duration": 0.05903,
          "end_time": "2020-11-21T06:33:27.556546",
          "exception": false,
          "start_time": "2020-11-21T06:33:27.497516",
          "status": "completed"
        },
        "tags": []
      },
      "outputs": [
        {
          "data": {
            "text/html": [
              "<div>\n",
              "<style scoped>\n",
              "    .dataframe tbody tr th:only-of-type {\n",
              "        vertical-align: middle;\n",
              "    }\n",
              "\n",
              "    .dataframe tbody tr th {\n",
              "        vertical-align: top;\n",
              "    }\n",
              "\n",
              "    .dataframe thead th {\n",
              "        text-align: right;\n",
              "    }\n",
              "</style>\n",
              "<table border=\"1\" class=\"dataframe\">\n",
              "  <thead>\n",
              "    <tr style=\"text-align: right;\">\n",
              "      <th></th>\n",
              "      <th>URL</th>\n",
              "      <th>Label</th>\n",
              "    </tr>\n",
              "  </thead>\n",
              "  <tbody>\n",
              "    <tr>\n",
              "      <th>0</th>\n",
              "      <td>nobell.it/70ffb52d079109dca5664cce6f317373782/...</td>\n",
              "      <td>bad</td>\n",
              "    </tr>\n",
              "    <tr>\n",
              "      <th>1</th>\n",
              "      <td>www.dghjdgf.com/paypal.co.uk/cycgi-bin/webscrc...</td>\n",
              "      <td>bad</td>\n",
              "    </tr>\n",
              "    <tr>\n",
              "      <th>2</th>\n",
              "      <td>serviciosbys.com/paypal.cgi.bin.get-into.herf....</td>\n",
              "      <td>bad</td>\n",
              "    </tr>\n",
              "    <tr>\n",
              "      <th>3</th>\n",
              "      <td>mail.printakid.com/www.online.americanexpress....</td>\n",
              "      <td>bad</td>\n",
              "    </tr>\n",
              "    <tr>\n",
              "      <th>4</th>\n",
              "      <td>thewhiskeydregs.com/wp-content/themes/widescre...</td>\n",
              "      <td>bad</td>\n",
              "    </tr>\n",
              "  </tbody>\n",
              "</table>\n",
              "</div>"
            ],
            "text/plain": [
              "                                                 URL Label\n",
              "0  nobell.it/70ffb52d079109dca5664cce6f317373782/...   bad\n",
              "1  www.dghjdgf.com/paypal.co.uk/cycgi-bin/webscrc...   bad\n",
              "2  serviciosbys.com/paypal.cgi.bin.get-into.herf....   bad\n",
              "3  mail.printakid.com/www.online.americanexpress....   bad\n",
              "4  thewhiskeydregs.com/wp-content/themes/widescre...   bad"
            ]
          },
          "execution_count": 15,
          "metadata": {},
          "output_type": "execute_result"
        }
      ],
      "source": [
        "phish_data.head()"
      ]
    },
    {
      "cell_type": "code",
      "execution_count": 16,
      "metadata": {
        "colab": {
          "base_uri": "https://localhost:8080/",
          "height": 206
        },
        "execution": {
          "iopub.execute_input": "2020-11-21T06:33:27.646131Z",
          "iopub.status.busy": "2020-11-21T06:33:27.645097Z",
          "iopub.status.idle": "2020-11-21T06:33:27.649188Z",
          "shell.execute_reply": "2020-11-21T06:33:27.648573Z"
        },
        "id": "m6DZOqz2H9Vr",
        "outputId": "1353b195-5178-4675-e740-9b1ebdf44fa7",
        "papermill": {
          "duration": 0.052496,
          "end_time": "2020-11-21T06:33:27.649297",
          "exception": false,
          "start_time": "2020-11-21T06:33:27.596801",
          "status": "completed"
        },
        "tags": []
      },
      "outputs": [
        {
          "data": {
            "text/html": [
              "<div>\n",
              "<style scoped>\n",
              "    .dataframe tbody tr th:only-of-type {\n",
              "        vertical-align: middle;\n",
              "    }\n",
              "\n",
              "    .dataframe tbody tr th {\n",
              "        vertical-align: top;\n",
              "    }\n",
              "\n",
              "    .dataframe thead th {\n",
              "        text-align: right;\n",
              "    }\n",
              "</style>\n",
              "<table border=\"1\" class=\"dataframe\">\n",
              "  <thead>\n",
              "    <tr style=\"text-align: right;\">\n",
              "      <th></th>\n",
              "      <th>URL</th>\n",
              "      <th>Label</th>\n",
              "    </tr>\n",
              "  </thead>\n",
              "  <tbody>\n",
              "    <tr>\n",
              "      <th>549341</th>\n",
              "      <td>23.227.196.215/</td>\n",
              "      <td>bad</td>\n",
              "    </tr>\n",
              "    <tr>\n",
              "      <th>549342</th>\n",
              "      <td>apple-checker.org/</td>\n",
              "      <td>bad</td>\n",
              "    </tr>\n",
              "    <tr>\n",
              "      <th>549343</th>\n",
              "      <td>apple-iclods.org/</td>\n",
              "      <td>bad</td>\n",
              "    </tr>\n",
              "    <tr>\n",
              "      <th>549344</th>\n",
              "      <td>apple-uptoday.org/</td>\n",
              "      <td>bad</td>\n",
              "    </tr>\n",
              "    <tr>\n",
              "      <th>549345</th>\n",
              "      <td>apple-search.info</td>\n",
              "      <td>bad</td>\n",
              "    </tr>\n",
              "  </tbody>\n",
              "</table>\n",
              "</div>"
            ],
            "text/plain": [
              "                       URL Label\n",
              "549341     23.227.196.215/   bad\n",
              "549342  apple-checker.org/   bad\n",
              "549343   apple-iclods.org/   bad\n",
              "549344  apple-uptoday.org/   bad\n",
              "549345   apple-search.info   bad"
            ]
          },
          "execution_count": 16,
          "metadata": {},
          "output_type": "execute_result"
        }
      ],
      "source": [
        "phish_data.tail()"
      ]
    },
    {
      "cell_type": "code",
      "execution_count": 17,
      "metadata": {
        "colab": {
          "base_uri": "https://localhost:8080/"
        },
        "execution": {
          "iopub.execute_input": "2020-11-21T06:33:27.778145Z",
          "iopub.status.busy": "2020-11-21T06:33:27.777477Z",
          "iopub.status.idle": "2020-11-21T06:33:27.792647Z",
          "shell.execute_reply": "2020-11-21T06:33:27.791908Z"
        },
        "id": "2K2ahryEH9Vr",
        "outputId": "d053bfb0-4e7e-45c2-de45-57d1ec4b007d",
        "papermill": {
          "duration": 0.103111,
          "end_time": "2020-11-21T06:33:27.792805",
          "exception": false,
          "start_time": "2020-11-21T06:33:27.689694",
          "status": "completed"
        },
        "tags": []
      },
      "outputs": [
        {
          "name": "stdout",
          "output_type": "stream",
          "text": [
            "<class 'pandas.core.frame.DataFrame'>\n",
            "RangeIndex: 549346 entries, 0 to 549345\n",
            "Data columns (total 2 columns):\n",
            " #   Column  Non-Null Count   Dtype \n",
            "---  ------  --------------   ----- \n",
            " 0   URL     549346 non-null  object\n",
            " 1   Label   549346 non-null  object\n",
            "dtypes: object(2)\n",
            "memory usage: 8.4+ MB\n"
          ]
        }
      ],
      "source": [
        "phish_data.info()"
      ]
    },
    {
      "cell_type": "code",
      "execution_count": 18,
      "metadata": {
        "colab": {
          "base_uri": "https://localhost:8080/"
        },
        "execution": {
          "iopub.execute_input": "2020-11-21T06:33:28.007694Z",
          "iopub.status.busy": "2020-11-21T06:33:28.006670Z",
          "iopub.status.idle": "2020-11-21T06:33:28.014459Z",
          "shell.execute_reply": "2020-11-21T06:33:28.013951Z"
        },
        "id": "T3YGB9mLH9Vr",
        "outputId": "f2493b2b-de8c-4e50-d03a-a0679471bbbb",
        "papermill": {
          "duration": 0.096185,
          "end_time": "2020-11-21T06:33:28.014580",
          "exception": false,
          "start_time": "2020-11-21T06:33:27.918395",
          "status": "completed"
        },
        "tags": []
      },
      "outputs": [
        {
          "data": {
            "text/plain": [
              "URL      0\n",
              "Label    0\n",
              "dtype: int64"
            ]
          },
          "execution_count": 18,
          "metadata": {},
          "output_type": "execute_result"
        }
      ],
      "source": [
        "phish_data.isnull().sum() # there is no missing values"
      ]
    },
    {
      "cell_type": "markdown",
      "metadata": {
        "id": "7hcMcX1mH9Vr",
        "papermill": {
          "duration": 0.040864,
          "end_time": "2020-11-21T06:33:28.096464",
          "exception": false,
          "start_time": "2020-11-21T06:33:28.055600",
          "status": "completed"
        },
        "tags": []
      },
      "source": [
        "* **Since it is classification problems so let's see the classes are balanced or imbalances**"
      ]
    },
    {
      "cell_type": "code",
      "execution_count": 19,
      "metadata": {
        "execution": {
          "iopub.execute_input": "2020-11-21T06:33:28.230828Z",
          "iopub.status.busy": "2020-11-21T06:33:28.209936Z",
          "iopub.status.idle": "2020-11-21T06:33:28.236247Z",
          "shell.execute_reply": "2020-11-21T06:33:28.235702Z"
        },
        "id": "_7iB5CrtH9Vs",
        "papermill": {
          "duration": 0.09886,
          "end_time": "2020-11-21T06:33:28.236366",
          "exception": false,
          "start_time": "2020-11-21T06:33:28.137506",
          "status": "completed"
        },
        "tags": []
      },
      "outputs": [],
      "source": [
        "#create a dataframe of classes counts\n",
        "label_counts = pd.DataFrame(phish_data.Label.value_counts())"
      ]
    },
    {
      "cell_type": "code",
      "execution_count": 20,
      "metadata": {
        "colab": {
          "base_uri": "https://localhost:8080/",
          "height": 542
        },
        "execution": {
          "iopub.execute_input": "2020-11-21T06:33:28.327834Z",
          "iopub.status.busy": "2020-11-21T06:33:28.327192Z",
          "iopub.status.idle": "2020-11-21T06:33:29.519656Z",
          "shell.execute_reply": "2020-11-21T06:33:29.520140Z"
        },
        "id": "UCivO1PgH9Vs",
        "outputId": "a3b8f4ae-d286-4e07-b464-6426e7e09071",
        "papermill": {
          "duration": 1.242396,
          "end_time": "2020-11-21T06:33:29.520281",
          "exception": false,
          "start_time": "2020-11-21T06:33:28.277885",
          "status": "completed"
        },
        "tags": []
      },
      "outputs": [
        {
          "data": {
            "application/vnd.plotly.v1+json": {
              "config": {
                "plotlyServerURL": "https://plot.ly"
              },
              "data": [
                {
                  "alignmentgroup": "True",
                  "hovertemplate": "index=%{x}<br>Label=%{y}<extra></extra>",
                  "legendgroup": "",
                  "marker": {
                    "color": "#636efa",
                    "pattern": {
                      "shape": ""
                    }
                  },
                  "name": "",
                  "offsetgroup": "",
                  "orientation": "v",
                  "showlegend": false,
                  "textposition": "auto",
                  "type": "bar",
                  "x": [
                    "good",
                    "bad"
                  ],
                  "xaxis": "x",
                  "y": [
                    392924,
                    156422
                  ],
                  "yaxis": "y"
                }
              ],
              "layout": {
                "barmode": "relative",
                "legend": {
                  "tracegroupgap": 0
                },
                "margin": {
                  "t": 60
                },
                "template": {
                  "data": {
                    "bar": [
                      {
                        "error_x": {
                          "color": "#2a3f5f"
                        },
                        "error_y": {
                          "color": "#2a3f5f"
                        },
                        "marker": {
                          "line": {
                            "color": "#E5ECF6",
                            "width": 0.5
                          },
                          "pattern": {
                            "fillmode": "overlay",
                            "size": 10,
                            "solidity": 0.2
                          }
                        },
                        "type": "bar"
                      }
                    ],
                    "barpolar": [
                      {
                        "marker": {
                          "line": {
                            "color": "#E5ECF6",
                            "width": 0.5
                          },
                          "pattern": {
                            "fillmode": "overlay",
                            "size": 10,
                            "solidity": 0.2
                          }
                        },
                        "type": "barpolar"
                      }
                    ],
                    "carpet": [
                      {
                        "aaxis": {
                          "endlinecolor": "#2a3f5f",
                          "gridcolor": "white",
                          "linecolor": "white",
                          "minorgridcolor": "white",
                          "startlinecolor": "#2a3f5f"
                        },
                        "baxis": {
                          "endlinecolor": "#2a3f5f",
                          "gridcolor": "white",
                          "linecolor": "white",
                          "minorgridcolor": "white",
                          "startlinecolor": "#2a3f5f"
                        },
                        "type": "carpet"
                      }
                    ],
                    "choropleth": [
                      {
                        "colorbar": {
                          "outlinewidth": 0,
                          "ticks": ""
                        },
                        "type": "choropleth"
                      }
                    ],
                    "contour": [
                      {
                        "colorbar": {
                          "outlinewidth": 0,
                          "ticks": ""
                        },
                        "colorscale": [
                          [
                            0,
                            "#0d0887"
                          ],
                          [
                            0.1111111111111111,
                            "#46039f"
                          ],
                          [
                            0.2222222222222222,
                            "#7201a8"
                          ],
                          [
                            0.3333333333333333,
                            "#9c179e"
                          ],
                          [
                            0.4444444444444444,
                            "#bd3786"
                          ],
                          [
                            0.5555555555555556,
                            "#d8576b"
                          ],
                          [
                            0.6666666666666666,
                            "#ed7953"
                          ],
                          [
                            0.7777777777777778,
                            "#fb9f3a"
                          ],
                          [
                            0.8888888888888888,
                            "#fdca26"
                          ],
                          [
                            1,
                            "#f0f921"
                          ]
                        ],
                        "type": "contour"
                      }
                    ],
                    "contourcarpet": [
                      {
                        "colorbar": {
                          "outlinewidth": 0,
                          "ticks": ""
                        },
                        "type": "contourcarpet"
                      }
                    ],
                    "heatmap": [
                      {
                        "colorbar": {
                          "outlinewidth": 0,
                          "ticks": ""
                        },
                        "colorscale": [
                          [
                            0,
                            "#0d0887"
                          ],
                          [
                            0.1111111111111111,
                            "#46039f"
                          ],
                          [
                            0.2222222222222222,
                            "#7201a8"
                          ],
                          [
                            0.3333333333333333,
                            "#9c179e"
                          ],
                          [
                            0.4444444444444444,
                            "#bd3786"
                          ],
                          [
                            0.5555555555555556,
                            "#d8576b"
                          ],
                          [
                            0.6666666666666666,
                            "#ed7953"
                          ],
                          [
                            0.7777777777777778,
                            "#fb9f3a"
                          ],
                          [
                            0.8888888888888888,
                            "#fdca26"
                          ],
                          [
                            1,
                            "#f0f921"
                          ]
                        ],
                        "type": "heatmap"
                      }
                    ],
                    "heatmapgl": [
                      {
                        "colorbar": {
                          "outlinewidth": 0,
                          "ticks": ""
                        },
                        "colorscale": [
                          [
                            0,
                            "#0d0887"
                          ],
                          [
                            0.1111111111111111,
                            "#46039f"
                          ],
                          [
                            0.2222222222222222,
                            "#7201a8"
                          ],
                          [
                            0.3333333333333333,
                            "#9c179e"
                          ],
                          [
                            0.4444444444444444,
                            "#bd3786"
                          ],
                          [
                            0.5555555555555556,
                            "#d8576b"
                          ],
                          [
                            0.6666666666666666,
                            "#ed7953"
                          ],
                          [
                            0.7777777777777778,
                            "#fb9f3a"
                          ],
                          [
                            0.8888888888888888,
                            "#fdca26"
                          ],
                          [
                            1,
                            "#f0f921"
                          ]
                        ],
                        "type": "heatmapgl"
                      }
                    ],
                    "histogram": [
                      {
                        "marker": {
                          "pattern": {
                            "fillmode": "overlay",
                            "size": 10,
                            "solidity": 0.2
                          }
                        },
                        "type": "histogram"
                      }
                    ],
                    "histogram2d": [
                      {
                        "colorbar": {
                          "outlinewidth": 0,
                          "ticks": ""
                        },
                        "colorscale": [
                          [
                            0,
                            "#0d0887"
                          ],
                          [
                            0.1111111111111111,
                            "#46039f"
                          ],
                          [
                            0.2222222222222222,
                            "#7201a8"
                          ],
                          [
                            0.3333333333333333,
                            "#9c179e"
                          ],
                          [
                            0.4444444444444444,
                            "#bd3786"
                          ],
                          [
                            0.5555555555555556,
                            "#d8576b"
                          ],
                          [
                            0.6666666666666666,
                            "#ed7953"
                          ],
                          [
                            0.7777777777777778,
                            "#fb9f3a"
                          ],
                          [
                            0.8888888888888888,
                            "#fdca26"
                          ],
                          [
                            1,
                            "#f0f921"
                          ]
                        ],
                        "type": "histogram2d"
                      }
                    ],
                    "histogram2dcontour": [
                      {
                        "colorbar": {
                          "outlinewidth": 0,
                          "ticks": ""
                        },
                        "colorscale": [
                          [
                            0,
                            "#0d0887"
                          ],
                          [
                            0.1111111111111111,
                            "#46039f"
                          ],
                          [
                            0.2222222222222222,
                            "#7201a8"
                          ],
                          [
                            0.3333333333333333,
                            "#9c179e"
                          ],
                          [
                            0.4444444444444444,
                            "#bd3786"
                          ],
                          [
                            0.5555555555555556,
                            "#d8576b"
                          ],
                          [
                            0.6666666666666666,
                            "#ed7953"
                          ],
                          [
                            0.7777777777777778,
                            "#fb9f3a"
                          ],
                          [
                            0.8888888888888888,
                            "#fdca26"
                          ],
                          [
                            1,
                            "#f0f921"
                          ]
                        ],
                        "type": "histogram2dcontour"
                      }
                    ],
                    "mesh3d": [
                      {
                        "colorbar": {
                          "outlinewidth": 0,
                          "ticks": ""
                        },
                        "type": "mesh3d"
                      }
                    ],
                    "parcoords": [
                      {
                        "line": {
                          "colorbar": {
                            "outlinewidth": 0,
                            "ticks": ""
                          }
                        },
                        "type": "parcoords"
                      }
                    ],
                    "pie": [
                      {
                        "automargin": true,
                        "type": "pie"
                      }
                    ],
                    "scatter": [
                      {
                        "marker": {
                          "colorbar": {
                            "outlinewidth": 0,
                            "ticks": ""
                          }
                        },
                        "type": "scatter"
                      }
                    ],
                    "scatter3d": [
                      {
                        "line": {
                          "colorbar": {
                            "outlinewidth": 0,
                            "ticks": ""
                          }
                        },
                        "marker": {
                          "colorbar": {
                            "outlinewidth": 0,
                            "ticks": ""
                          }
                        },
                        "type": "scatter3d"
                      }
                    ],
                    "scattercarpet": [
                      {
                        "marker": {
                          "colorbar": {
                            "outlinewidth": 0,
                            "ticks": ""
                          }
                        },
                        "type": "scattercarpet"
                      }
                    ],
                    "scattergeo": [
                      {
                        "marker": {
                          "colorbar": {
                            "outlinewidth": 0,
                            "ticks": ""
                          }
                        },
                        "type": "scattergeo"
                      }
                    ],
                    "scattergl": [
                      {
                        "marker": {
                          "colorbar": {
                            "outlinewidth": 0,
                            "ticks": ""
                          }
                        },
                        "type": "scattergl"
                      }
                    ],
                    "scattermapbox": [
                      {
                        "marker": {
                          "colorbar": {
                            "outlinewidth": 0,
                            "ticks": ""
                          }
                        },
                        "type": "scattermapbox"
                      }
                    ],
                    "scatterpolar": [
                      {
                        "marker": {
                          "colorbar": {
                            "outlinewidth": 0,
                            "ticks": ""
                          }
                        },
                        "type": "scatterpolar"
                      }
                    ],
                    "scatterpolargl": [
                      {
                        "marker": {
                          "colorbar": {
                            "outlinewidth": 0,
                            "ticks": ""
                          }
                        },
                        "type": "scatterpolargl"
                      }
                    ],
                    "scatterternary": [
                      {
                        "marker": {
                          "colorbar": {
                            "outlinewidth": 0,
                            "ticks": ""
                          }
                        },
                        "type": "scatterternary"
                      }
                    ],
                    "surface": [
                      {
                        "colorbar": {
                          "outlinewidth": 0,
                          "ticks": ""
                        },
                        "colorscale": [
                          [
                            0,
                            "#0d0887"
                          ],
                          [
                            0.1111111111111111,
                            "#46039f"
                          ],
                          [
                            0.2222222222222222,
                            "#7201a8"
                          ],
                          [
                            0.3333333333333333,
                            "#9c179e"
                          ],
                          [
                            0.4444444444444444,
                            "#bd3786"
                          ],
                          [
                            0.5555555555555556,
                            "#d8576b"
                          ],
                          [
                            0.6666666666666666,
                            "#ed7953"
                          ],
                          [
                            0.7777777777777778,
                            "#fb9f3a"
                          ],
                          [
                            0.8888888888888888,
                            "#fdca26"
                          ],
                          [
                            1,
                            "#f0f921"
                          ]
                        ],
                        "type": "surface"
                      }
                    ],
                    "table": [
                      {
                        "cells": {
                          "fill": {
                            "color": "#EBF0F8"
                          },
                          "line": {
                            "color": "white"
                          }
                        },
                        "header": {
                          "fill": {
                            "color": "#C8D4E3"
                          },
                          "line": {
                            "color": "white"
                          }
                        },
                        "type": "table"
                      }
                    ]
                  },
                  "layout": {
                    "annotationdefaults": {
                      "arrowcolor": "#2a3f5f",
                      "arrowhead": 0,
                      "arrowwidth": 1
                    },
                    "autotypenumbers": "strict",
                    "coloraxis": {
                      "colorbar": {
                        "outlinewidth": 0,
                        "ticks": ""
                      }
                    },
                    "colorscale": {
                      "diverging": [
                        [
                          0,
                          "#8e0152"
                        ],
                        [
                          0.1,
                          "#c51b7d"
                        ],
                        [
                          0.2,
                          "#de77ae"
                        ],
                        [
                          0.3,
                          "#f1b6da"
                        ],
                        [
                          0.4,
                          "#fde0ef"
                        ],
                        [
                          0.5,
                          "#f7f7f7"
                        ],
                        [
                          0.6,
                          "#e6f5d0"
                        ],
                        [
                          0.7,
                          "#b8e186"
                        ],
                        [
                          0.8,
                          "#7fbc41"
                        ],
                        [
                          0.9,
                          "#4d9221"
                        ],
                        [
                          1,
                          "#276419"
                        ]
                      ],
                      "sequential": [
                        [
                          0,
                          "#0d0887"
                        ],
                        [
                          0.1111111111111111,
                          "#46039f"
                        ],
                        [
                          0.2222222222222222,
                          "#7201a8"
                        ],
                        [
                          0.3333333333333333,
                          "#9c179e"
                        ],
                        [
                          0.4444444444444444,
                          "#bd3786"
                        ],
                        [
                          0.5555555555555556,
                          "#d8576b"
                        ],
                        [
                          0.6666666666666666,
                          "#ed7953"
                        ],
                        [
                          0.7777777777777778,
                          "#fb9f3a"
                        ],
                        [
                          0.8888888888888888,
                          "#fdca26"
                        ],
                        [
                          1,
                          "#f0f921"
                        ]
                      ],
                      "sequentialminus": [
                        [
                          0,
                          "#0d0887"
                        ],
                        [
                          0.1111111111111111,
                          "#46039f"
                        ],
                        [
                          0.2222222222222222,
                          "#7201a8"
                        ],
                        [
                          0.3333333333333333,
                          "#9c179e"
                        ],
                        [
                          0.4444444444444444,
                          "#bd3786"
                        ],
                        [
                          0.5555555555555556,
                          "#d8576b"
                        ],
                        [
                          0.6666666666666666,
                          "#ed7953"
                        ],
                        [
                          0.7777777777777778,
                          "#fb9f3a"
                        ],
                        [
                          0.8888888888888888,
                          "#fdca26"
                        ],
                        [
                          1,
                          "#f0f921"
                        ]
                      ]
                    },
                    "colorway": [
                      "#636efa",
                      "#EF553B",
                      "#00cc96",
                      "#ab63fa",
                      "#FFA15A",
                      "#19d3f3",
                      "#FF6692",
                      "#B6E880",
                      "#FF97FF",
                      "#FECB52"
                    ],
                    "font": {
                      "color": "#2a3f5f"
                    },
                    "geo": {
                      "bgcolor": "white",
                      "lakecolor": "white",
                      "landcolor": "#E5ECF6",
                      "showlakes": true,
                      "showland": true,
                      "subunitcolor": "white"
                    },
                    "hoverlabel": {
                      "align": "left"
                    },
                    "hovermode": "closest",
                    "mapbox": {
                      "style": "light"
                    },
                    "paper_bgcolor": "white",
                    "plot_bgcolor": "#E5ECF6",
                    "polar": {
                      "angularaxis": {
                        "gridcolor": "white",
                        "linecolor": "white",
                        "ticks": ""
                      },
                      "bgcolor": "#E5ECF6",
                      "radialaxis": {
                        "gridcolor": "white",
                        "linecolor": "white",
                        "ticks": ""
                      }
                    },
                    "scene": {
                      "xaxis": {
                        "backgroundcolor": "#E5ECF6",
                        "gridcolor": "white",
                        "gridwidth": 2,
                        "linecolor": "white",
                        "showbackground": true,
                        "ticks": "",
                        "zerolinecolor": "white"
                      },
                      "yaxis": {
                        "backgroundcolor": "#E5ECF6",
                        "gridcolor": "white",
                        "gridwidth": 2,
                        "linecolor": "white",
                        "showbackground": true,
                        "ticks": "",
                        "zerolinecolor": "white"
                      },
                      "zaxis": {
                        "backgroundcolor": "#E5ECF6",
                        "gridcolor": "white",
                        "gridwidth": 2,
                        "linecolor": "white",
                        "showbackground": true,
                        "ticks": "",
                        "zerolinecolor": "white"
                      }
                    },
                    "shapedefaults": {
                      "line": {
                        "color": "#2a3f5f"
                      }
                    },
                    "ternary": {
                      "aaxis": {
                        "gridcolor": "white",
                        "linecolor": "white",
                        "ticks": ""
                      },
                      "baxis": {
                        "gridcolor": "white",
                        "linecolor": "white",
                        "ticks": ""
                      },
                      "bgcolor": "#E5ECF6",
                      "caxis": {
                        "gridcolor": "white",
                        "linecolor": "white",
                        "ticks": ""
                      }
                    },
                    "title": {
                      "x": 0.05
                    },
                    "xaxis": {
                      "automargin": true,
                      "gridcolor": "white",
                      "linecolor": "white",
                      "ticks": "",
                      "title": {
                        "standoff": 15
                      },
                      "zerolinecolor": "white",
                      "zerolinewidth": 2
                    },
                    "yaxis": {
                      "automargin": true,
                      "gridcolor": "white",
                      "linecolor": "white",
                      "ticks": "",
                      "title": {
                        "standoff": 15
                      },
                      "zerolinecolor": "white",
                      "zerolinewidth": 2
                    }
                  }
                },
                "xaxis": {
                  "anchor": "y",
                  "domain": [
                    0,
                    1
                  ],
                  "title": {
                    "text": "index"
                  }
                },
                "yaxis": {
                  "anchor": "x",
                  "domain": [
                    0,
                    1
                  ],
                  "title": {
                    "text": "Label"
                  }
                }
              }
            }
          },
          "metadata": {},
          "output_type": "display_data"
        }
      ],
      "source": [
        "#visualizing target_col\n",
        "fig = px.bar(label_counts, x=label_counts.index, y=label_counts.Label)\n",
        "fig.show()"
      ]
    },
    {
      "cell_type": "markdown",
      "metadata": {
        "id": "_pKoOJUjH9Vs",
        "papermill": {
          "duration": 0.042117,
          "end_time": "2020-11-21T06:33:29.605356",
          "exception": false,
          "start_time": "2020-11-21T06:33:29.563239",
          "status": "completed"
        },
        "tags": []
      },
      "source": [
        "### Preprocessing\n",
        "* **Now that we have the data, we have to vectorize our URLs. I used CountVectorizer and gather words using tokenizer, since there are words in urls that are more important than other words e.g ‘virus’, ‘.exe’ ,’.dat’ etc. Lets convert the URLs into a vector form.**"
      ]
    },
    {
      "cell_type": "markdown",
      "metadata": {
        "id": "--vE8miwH9Vs",
        "papermill": {
          "duration": 0.04213,
          "end_time": "2020-11-21T06:33:29.689790",
          "exception": false,
          "start_time": "2020-11-21T06:33:29.647660",
          "status": "completed"
        },
        "tags": []
      },
      "source": [
        "#### RegexpTokenizer\n",
        "* A tokenizer that splits a string using a regular expression, which matches either the tokens or the separators between tokens."
      ]
    },
    {
      "cell_type": "code",
      "execution_count": 21,
      "metadata": {
        "execution": {
          "iopub.execute_input": "2020-11-21T06:33:29.779021Z",
          "iopub.status.busy": "2020-11-21T06:33:29.778438Z",
          "iopub.status.idle": "2020-11-21T06:33:29.780689Z",
          "shell.execute_reply": "2020-11-21T06:33:29.781176Z"
        },
        "id": "Hovd55isH9Vs",
        "papermill": {
          "duration": 0.049343,
          "end_time": "2020-11-21T06:33:29.781310",
          "exception": false,
          "start_time": "2020-11-21T06:33:29.731967",
          "status": "completed"
        },
        "tags": []
      },
      "outputs": [],
      "source": [
        "tokenizer = RegexpTokenizer(r'[A-Za-z]+')#to getting alpha only"
      ]
    },
    {
      "cell_type": "code",
      "execution_count": 22,
      "metadata": {
        "colab": {
          "base_uri": "https://localhost:8080/",
          "height": 53
        },
        "execution": {
          "iopub.execute_input": "2020-11-21T06:33:29.871583Z",
          "iopub.status.busy": "2020-11-21T06:33:29.870831Z",
          "iopub.status.idle": "2020-11-21T06:33:29.901084Z",
          "shell.execute_reply": "2020-11-21T06:33:29.900569Z"
        },
        "id": "CNrJsEm6H9Vs",
        "outputId": "36e9fe6a-9f56-42c7-8c31-f955629666a0",
        "papermill": {
          "duration": 0.077399,
          "end_time": "2020-11-21T06:33:29.901203",
          "exception": false,
          "start_time": "2020-11-21T06:33:29.823804",
          "status": "completed"
        },
        "tags": []
      },
      "outputs": [
        {
          "data": {
            "text/plain": [
              "'nobell.it/70ffb52d079109dca5664cce6f317373782/login.SkyPe.com/en/cgi-bin/verification/login/70ffb52d079109dca5664cce6f317373/index.php?cmd=_profile-ach&outdated_page_tmpl=p/gen/failed-to-load&nav=0.5.1&login_access=1322408526'"
            ]
          },
          "execution_count": 22,
          "metadata": {},
          "output_type": "execute_result"
        }
      ],
      "source": [
        "phish_data.URL[0]"
      ]
    },
    {
      "cell_type": "code",
      "execution_count": 23,
      "metadata": {
        "colab": {
          "base_uri": "https://localhost:8080/"
        },
        "execution": {
          "iopub.execute_input": "2020-11-21T06:33:29.993634Z",
          "iopub.status.busy": "2020-11-21T06:33:29.992916Z",
          "iopub.status.idle": "2020-11-21T06:33:29.997160Z",
          "shell.execute_reply": "2020-11-21T06:33:29.996608Z"
        },
        "id": "M3v1EA0bH9Vt",
        "outputId": "734351b2-69ce-4991-95f9-cd07a5d0ee2b",
        "papermill": {
          "duration": 0.052947,
          "end_time": "2020-11-21T06:33:29.997268",
          "exception": false,
          "start_time": "2020-11-21T06:33:29.944321",
          "status": "completed"
        },
        "tags": []
      },
      "outputs": [
        {
          "data": {
            "text/plain": [
              "['nobell',\n",
              " 'it',\n",
              " 'ffb',\n",
              " 'd',\n",
              " 'dca',\n",
              " 'cce',\n",
              " 'f',\n",
              " 'login',\n",
              " 'SkyPe',\n",
              " 'com',\n",
              " 'en',\n",
              " 'cgi',\n",
              " 'bin',\n",
              " 'verification',\n",
              " 'login',\n",
              " 'ffb',\n",
              " 'd',\n",
              " 'dca',\n",
              " 'cce',\n",
              " 'f',\n",
              " 'index',\n",
              " 'php',\n",
              " 'cmd',\n",
              " 'profile',\n",
              " 'ach',\n",
              " 'outdated',\n",
              " 'page',\n",
              " 'tmpl',\n",
              " 'p',\n",
              " 'gen',\n",
              " 'failed',\n",
              " 'to',\n",
              " 'load',\n",
              " 'nav',\n",
              " 'login',\n",
              " 'access']"
            ]
          },
          "execution_count": 23,
          "metadata": {},
          "output_type": "execute_result"
        }
      ],
      "source": [
        "# this will be pull letter which matches to expression\n",
        "tokenizer.tokenize(phish_data.URL[0]) # using first row"
      ]
    },
    {
      "cell_type": "code",
      "execution_count": 24,
      "metadata": {
        "colab": {
          "base_uri": "https://localhost:8080/"
        },
        "execution": {
          "iopub.execute_input": "2020-11-21T06:33:30.101908Z",
          "iopub.status.busy": "2020-11-21T06:33:30.089925Z",
          "iopub.status.idle": "2020-11-21T06:33:32.781682Z",
          "shell.execute_reply": "2020-11-21T06:33:32.780859Z"
        },
        "id": "yk1zprTfH9Vt",
        "outputId": "56f8c5d7-9eeb-4660-de5b-b404ad9b085b",
        "papermill": {
          "duration": 2.741209,
          "end_time": "2020-11-21T06:33:32.781862",
          "exception": false,
          "start_time": "2020-11-21T06:33:30.040653",
          "status": "completed"
        },
        "tags": []
      },
      "outputs": [
        {
          "name": "stdout",
          "output_type": "stream",
          "text": [
            "Getting words tokenized ...\n",
            "Time taken 2.218552499999987 sec\n"
          ]
        }
      ],
      "source": [
        "print('Getting words tokenized ...')\n",
        "t0= time.perf_counter()\n",
        "phish_data['text_tokenized'] = phish_data.URL.map(lambda t: tokenizer.tokenize(t)) # doing with all rows\n",
        "t1 = time.perf_counter() - t0\n",
        "print('Time taken',t1 ,'sec')"
      ]
    },
    {
      "cell_type": "code",
      "execution_count": 25,
      "metadata": {
        "colab": {
          "base_uri": "https://localhost:8080/",
          "height": 206
        },
        "execution": {
          "iopub.execute_input": "2020-11-21T06:33:32.877029Z",
          "iopub.status.busy": "2020-11-21T06:33:32.876156Z",
          "iopub.status.idle": "2020-11-21T06:33:32.974397Z",
          "shell.execute_reply": "2020-11-21T06:33:32.973770Z"
        },
        "id": "PF2bt7qKH9Vt",
        "outputId": "eca830b1-52b1-4666-a5ac-6afce704a19c",
        "papermill": {
          "duration": 0.146688,
          "end_time": "2020-11-21T06:33:32.974510",
          "exception": false,
          "start_time": "2020-11-21T06:33:32.827822",
          "status": "completed"
        },
        "tags": []
      },
      "outputs": [
        {
          "data": {
            "text/html": [
              "<div>\n",
              "<style scoped>\n",
              "    .dataframe tbody tr th:only-of-type {\n",
              "        vertical-align: middle;\n",
              "    }\n",
              "\n",
              "    .dataframe tbody tr th {\n",
              "        vertical-align: top;\n",
              "    }\n",
              "\n",
              "    .dataframe thead th {\n",
              "        text-align: right;\n",
              "    }\n",
              "</style>\n",
              "<table border=\"1\" class=\"dataframe\">\n",
              "  <thead>\n",
              "    <tr style=\"text-align: right;\">\n",
              "      <th></th>\n",
              "      <th>URL</th>\n",
              "      <th>Label</th>\n",
              "      <th>text_tokenized</th>\n",
              "    </tr>\n",
              "  </thead>\n",
              "  <tbody>\n",
              "    <tr>\n",
              "      <th>150157</th>\n",
              "      <td>blixtech.com/stories/0WnMn8aFJ4Cs</td>\n",
              "      <td>good</td>\n",
              "      <td>[blixtech, com, stories, WnMn, aFJ, Cs]</td>\n",
              "    </tr>\n",
              "    <tr>\n",
              "      <th>27886</th>\n",
              "      <td>welchmediadevelopers.com/wp-content/themes/twe...</td>\n",
              "      <td>bad</td>\n",
              "      <td>[welchmediadevelopers, com, wp, content, theme...</td>\n",
              "    </tr>\n",
              "    <tr>\n",
              "      <th>467412</th>\n",
              "      <td>wwoofjapan.com/main/index.php?option=com_conte...</td>\n",
              "      <td>good</td>\n",
              "      <td>[wwoofjapan, com, main, index, php, option, co...</td>\n",
              "    </tr>\n",
              "    <tr>\n",
              "      <th>183951</th>\n",
              "      <td>entertainment.howstuffworks.com/kid-nichols-ho...</td>\n",
              "      <td>good</td>\n",
              "      <td>[entertainment, howstuffworks, com, kid, nicho...</td>\n",
              "    </tr>\n",
              "    <tr>\n",
              "      <th>395543</th>\n",
              "      <td>mylife.com/c-1442108366</td>\n",
              "      <td>good</td>\n",
              "      <td>[mylife, com, c]</td>\n",
              "    </tr>\n",
              "  </tbody>\n",
              "</table>\n",
              "</div>"
            ],
            "text/plain": [
              "                                                      URL Label  \\\n",
              "150157                  blixtech.com/stories/0WnMn8aFJ4Cs  good   \n",
              "27886   welchmediadevelopers.com/wp-content/themes/twe...   bad   \n",
              "467412  wwoofjapan.com/main/index.php?option=com_conte...  good   \n",
              "183951  entertainment.howstuffworks.com/kid-nichols-ho...  good   \n",
              "395543                            mylife.com/c-1442108366  good   \n",
              "\n",
              "                                           text_tokenized  \n",
              "150157            [blixtech, com, stories, WnMn, aFJ, Cs]  \n",
              "27886   [welchmediadevelopers, com, wp, content, theme...  \n",
              "467412  [wwoofjapan, com, main, index, php, option, co...  \n",
              "183951  [entertainment, howstuffworks, com, kid, nicho...  \n",
              "395543                                   [mylife, com, c]  "
            ]
          },
          "execution_count": 25,
          "metadata": {},
          "output_type": "execute_result"
        }
      ],
      "source": [
        "phish_data.sample(5)"
      ]
    },
    {
      "cell_type": "markdown",
      "metadata": {
        "id": "rH8tF8SNH9Vt",
        "papermill": {
          "duration": 0.044502,
          "end_time": "2020-11-21T06:33:33.063920",
          "exception": false,
          "start_time": "2020-11-21T06:33:33.019418",
          "status": "completed"
        },
        "tags": []
      },
      "source": [
        "#### SnowballStemmer\n",
        "* Snowball is a small string processing language, gives root words"
      ]
    },
    {
      "cell_type": "code",
      "execution_count": 26,
      "metadata": {
        "execution": {
          "iopub.execute_input": "2020-11-21T06:33:33.158456Z",
          "iopub.status.busy": "2020-11-21T06:33:33.157681Z",
          "iopub.status.idle": "2020-11-21T06:33:33.160771Z",
          "shell.execute_reply": "2020-11-21T06:33:33.160154Z"
        },
        "id": "oeS1w9p5H9Vt",
        "papermill": {
          "duration": 0.052006,
          "end_time": "2020-11-21T06:33:33.160878",
          "exception": false,
          "start_time": "2020-11-21T06:33:33.108872",
          "status": "completed"
        },
        "tags": []
      },
      "outputs": [],
      "source": [
        "stemmer = SnowballStemmer(\"english\") # choose a language"
      ]
    },
    {
      "cell_type": "code",
      "execution_count": 27,
      "metadata": {
        "colab": {
          "base_uri": "https://localhost:8080/"
        },
        "execution": {
          "iopub.execute_input": "2020-11-21T06:33:33.257264Z",
          "iopub.status.busy": "2020-11-21T06:33:33.256534Z",
          "iopub.status.idle": "2020-11-21T06:34:27.440737Z",
          "shell.execute_reply": "2020-11-21T06:34:27.441505Z"
        },
        "id": "eg1QzzxtH9Vt",
        "outputId": "8604094b-4154-420f-c43f-7f06d1d517c1",
        "papermill": {
          "duration": 54.23567,
          "end_time": "2020-11-21T06:34:27.441709",
          "exception": false,
          "start_time": "2020-11-21T06:33:33.206039",
          "status": "completed"
        },
        "tags": []
      },
      "outputs": [
        {
          "name": "stdout",
          "output_type": "stream",
          "text": [
            "Getting words stemmed ...\n",
            "Time taken 23.08872600000001 sec\n"
          ]
        }
      ],
      "source": [
        "print('Getting words stemmed ...')\n",
        "t0= time.perf_counter()\n",
        "phish_data['text_stemmed'] = phish_data['text_tokenized'].map(lambda l: [stemmer.stem(word) for word in l])\n",
        "t1= time.perf_counter() - t0\n",
        "print('Time taken',t1 ,'sec')"
      ]
    },
    {
      "cell_type": "code",
      "execution_count": 28,
      "metadata": {
        "colab": {
          "base_uri": "https://localhost:8080/",
          "height": 250
        },
        "execution": {
          "iopub.execute_input": "2020-11-21T06:34:27.538309Z",
          "iopub.status.busy": "2020-11-21T06:34:27.537632Z",
          "iopub.status.idle": "2020-11-21T06:34:27.684341Z",
          "shell.execute_reply": "2020-11-21T06:34:27.683707Z"
        },
        "id": "14fMue3YH9Vt",
        "outputId": "e0089c5c-d882-451d-a677-4845dce67744",
        "papermill": {
          "duration": 0.196063,
          "end_time": "2020-11-21T06:34:27.684460",
          "exception": false,
          "start_time": "2020-11-21T06:34:27.488397",
          "status": "completed"
        },
        "tags": []
      },
      "outputs": [
        {
          "data": {
            "text/html": [
              "<div>\n",
              "<style scoped>\n",
              "    .dataframe tbody tr th:only-of-type {\n",
              "        vertical-align: middle;\n",
              "    }\n",
              "\n",
              "    .dataframe tbody tr th {\n",
              "        vertical-align: top;\n",
              "    }\n",
              "\n",
              "    .dataframe thead th {\n",
              "        text-align: right;\n",
              "    }\n",
              "</style>\n",
              "<table border=\"1\" class=\"dataframe\">\n",
              "  <thead>\n",
              "    <tr style=\"text-align: right;\">\n",
              "      <th></th>\n",
              "      <th>URL</th>\n",
              "      <th>Label</th>\n",
              "      <th>text_tokenized</th>\n",
              "      <th>text_stemmed</th>\n",
              "    </tr>\n",
              "  </thead>\n",
              "  <tbody>\n",
              "    <tr>\n",
              "      <th>274662</th>\n",
              "      <td>amazon.com/Dance-Fleetwood-Mac/dp/B000002NHG</td>\n",
              "      <td>good</td>\n",
              "      <td>[amazon, com, Dance, Fleetwood, Mac, dp, B, NHG]</td>\n",
              "      <td>[amazon, com, danc, fleetwood, mac, dp, b, nhg]</td>\n",
              "    </tr>\n",
              "    <tr>\n",
              "      <th>17863</th>\n",
              "      <td>huarui-tec.com/js/?ref=fnxlefqus.battle.net/d3...</td>\n",
              "      <td>bad</td>\n",
              "      <td>[huarui, tec, com, js, ref, fnxlefqus, battle,...</td>\n",
              "      <td>[huarui, tec, com, js, ref, fnxlefqus, battl, ...</td>\n",
              "    </tr>\n",
              "    <tr>\n",
              "      <th>442063</th>\n",
              "      <td>tcoasttalk.com/2011/09/06/woman-in-jensen-beac...</td>\n",
              "      <td>good</td>\n",
              "      <td>[tcoasttalk, com, woman, in, jensen, beach, wo...</td>\n",
              "      <td>[tcoasttalk, com, woman, in, jensen, beach, wo...</td>\n",
              "    </tr>\n",
              "    <tr>\n",
              "      <th>183610</th>\n",
              "      <td>english.turkcebilgi.com/Lillian+Moller+Gilbreth</td>\n",
              "      <td>good</td>\n",
              "      <td>[english, turkcebilgi, com, Lillian, Moller, G...</td>\n",
              "      <td>[english, turkcebilgi, com, lillian, moller, g...</td>\n",
              "    </tr>\n",
              "    <tr>\n",
              "      <th>405079</th>\n",
              "      <td>nick.com/videos/penguins-of-madagascar-videos</td>\n",
              "      <td>good</td>\n",
              "      <td>[nick, com, videos, penguins, of, madagascar, ...</td>\n",
              "      <td>[nick, com, video, penguin, of, madagascar, vi...</td>\n",
              "    </tr>\n",
              "  </tbody>\n",
              "</table>\n",
              "</div>"
            ],
            "text/plain": [
              "                                                      URL Label  \\\n",
              "274662       amazon.com/Dance-Fleetwood-Mac/dp/B000002NHG  good   \n",
              "17863   huarui-tec.com/js/?ref=fnxlefqus.battle.net/d3...   bad   \n",
              "442063  tcoasttalk.com/2011/09/06/woman-in-jensen-beac...  good   \n",
              "183610    english.turkcebilgi.com/Lillian+Moller+Gilbreth  good   \n",
              "405079      nick.com/videos/penguins-of-madagascar-videos  good   \n",
              "\n",
              "                                           text_tokenized  \\\n",
              "274662   [amazon, com, Dance, Fleetwood, Mac, dp, B, NHG]   \n",
              "17863   [huarui, tec, com, js, ref, fnxlefqus, battle,...   \n",
              "442063  [tcoasttalk, com, woman, in, jensen, beach, wo...   \n",
              "183610  [english, turkcebilgi, com, Lillian, Moller, G...   \n",
              "405079  [nick, com, videos, penguins, of, madagascar, ...   \n",
              "\n",
              "                                             text_stemmed  \n",
              "274662    [amazon, com, danc, fleetwood, mac, dp, b, nhg]  \n",
              "17863   [huarui, tec, com, js, ref, fnxlefqus, battl, ...  \n",
              "442063  [tcoasttalk, com, woman, in, jensen, beach, wo...  \n",
              "183610  [english, turkcebilgi, com, lillian, moller, g...  \n",
              "405079  [nick, com, video, penguin, of, madagascar, vi...  "
            ]
          },
          "execution_count": 28,
          "metadata": {},
          "output_type": "execute_result"
        }
      ],
      "source": [
        "phish_data.sample(5)"
      ]
    },
    {
      "cell_type": "code",
      "execution_count": 29,
      "metadata": {
        "colab": {
          "base_uri": "https://localhost:8080/"
        },
        "execution": {
          "iopub.execute_input": "2020-11-21T06:34:27.783316Z",
          "iopub.status.busy": "2020-11-21T06:34:27.782618Z",
          "iopub.status.idle": "2020-11-21T06:34:28.065078Z",
          "shell.execute_reply": "2020-11-21T06:34:28.064522Z"
        },
        "id": "YfpxXY2RH9Vu",
        "outputId": "71211edf-4ff1-435a-c758-c96a86fdee7d",
        "papermill": {
          "duration": 0.334363,
          "end_time": "2020-11-21T06:34:28.065203",
          "exception": false,
          "start_time": "2020-11-21T06:34:27.730840",
          "status": "completed"
        },
        "tags": []
      },
      "outputs": [
        {
          "name": "stdout",
          "output_type": "stream",
          "text": [
            "Getting joiningwords ...\n",
            "Time taken 0.16629320000001258 sec\n"
          ]
        }
      ],
      "source": [
        "print('Getting joiningwords ...')\n",
        "t0= time.perf_counter()\n",
        "phish_data['text_sent'] = phish_data['text_stemmed'].map(lambda l: ' '.join(l))\n",
        "t1= time.perf_counter() - t0\n",
        "print('Time taken',t1 ,'sec')"
      ]
    },
    {
      "cell_type": "code",
      "execution_count": 30,
      "metadata": {
        "colab": {
          "base_uri": "https://localhost:8080/",
          "height": 337
        },
        "execution": {
          "iopub.execute_input": "2020-11-21T06:34:28.165007Z",
          "iopub.status.busy": "2020-11-21T06:34:28.164410Z",
          "iopub.status.idle": "2020-11-21T06:34:28.327941Z",
          "shell.execute_reply": "2020-11-21T06:34:28.327406Z"
        },
        "id": "oKtm7RniH9Vu",
        "outputId": "06b9cef9-7d29-472f-9a60-186aeaf4d636",
        "papermill": {
          "duration": 0.215449,
          "end_time": "2020-11-21T06:34:28.328073",
          "exception": false,
          "start_time": "2020-11-21T06:34:28.112624",
          "status": "completed"
        },
        "tags": []
      },
      "outputs": [
        {
          "data": {
            "text/html": [
              "<div>\n",
              "<style scoped>\n",
              "    .dataframe tbody tr th:only-of-type {\n",
              "        vertical-align: middle;\n",
              "    }\n",
              "\n",
              "    .dataframe tbody tr th {\n",
              "        vertical-align: top;\n",
              "    }\n",
              "\n",
              "    .dataframe thead th {\n",
              "        text-align: right;\n",
              "    }\n",
              "</style>\n",
              "<table border=\"1\" class=\"dataframe\">\n",
              "  <thead>\n",
              "    <tr style=\"text-align: right;\">\n",
              "      <th></th>\n",
              "      <th>URL</th>\n",
              "      <th>Label</th>\n",
              "      <th>text_tokenized</th>\n",
              "      <th>text_stemmed</th>\n",
              "      <th>text_sent</th>\n",
              "    </tr>\n",
              "  </thead>\n",
              "  <tbody>\n",
              "    <tr>\n",
              "      <th>218594</th>\n",
              "      <td>music.yahoo.com/tsuyoshi-nagabuchi/photos/</td>\n",
              "      <td>good</td>\n",
              "      <td>[music, yahoo, com, tsuyoshi, nagabuchi, photos]</td>\n",
              "      <td>[music, yahoo, com, tsuyoshi, nagabuchi, photo]</td>\n",
              "      <td>music yahoo com tsuyoshi nagabuchi photo</td>\n",
              "    </tr>\n",
              "    <tr>\n",
              "      <th>438735</th>\n",
              "      <td>startrek.com/database_article/year-of-hell-par...</td>\n",
              "      <td>good</td>\n",
              "      <td>[startrek, com, database, article, year, of, h...</td>\n",
              "      <td>[startrek, com, databas, articl, year, of, hel...</td>\n",
              "      <td>startrek com databas articl year of hell part ii</td>\n",
              "    </tr>\n",
              "    <tr>\n",
              "      <th>240858</th>\n",
              "      <td>soundcloud.com/late-nite-tuff-guy</td>\n",
              "      <td>good</td>\n",
              "      <td>[soundcloud, com, late, nite, tuff, guy]</td>\n",
              "      <td>[soundcloud, com, late, nite, tuff, guy]</td>\n",
              "      <td>soundcloud com late nite tuff guy</td>\n",
              "    </tr>\n",
              "    <tr>\n",
              "      <th>522517</th>\n",
              "      <td>gfdkotriam.fo4j4wnq51hepa.com/img/bitcoin.png</td>\n",
              "      <td>bad</td>\n",
              "      <td>[gfdkotriam, fo, j, wnq, hepa, com, img, bitco...</td>\n",
              "      <td>[gfdkotriam, fo, j, wnq, hepa, com, img, bitco...</td>\n",
              "      <td>gfdkotriam fo j wnq hepa com img bitcoin png</td>\n",
              "    </tr>\n",
              "    <tr>\n",
              "      <th>5228</th>\n",
              "      <td>islander.it/images/cani/frida/gdf5gdf4gd5g4d6f...</td>\n",
              "      <td>bad</td>\n",
              "      <td>[islander, it, images, cani, frida, gdf, gdf, ...</td>\n",
              "      <td>[island, it, imag, cani, frida, gdf, gdf, gd, ...</td>\n",
              "      <td>island it imag cani frida gdf gdf gd g d f g d...</td>\n",
              "    </tr>\n",
              "  </tbody>\n",
              "</table>\n",
              "</div>"
            ],
            "text/plain": [
              "                                                      URL Label  \\\n",
              "218594         music.yahoo.com/tsuyoshi-nagabuchi/photos/  good   \n",
              "438735  startrek.com/database_article/year-of-hell-par...  good   \n",
              "240858                  soundcloud.com/late-nite-tuff-guy  good   \n",
              "522517      gfdkotriam.fo4j4wnq51hepa.com/img/bitcoin.png   bad   \n",
              "5228    islander.it/images/cani/frida/gdf5gdf4gd5g4d6f...   bad   \n",
              "\n",
              "                                           text_tokenized  \\\n",
              "218594   [music, yahoo, com, tsuyoshi, nagabuchi, photos]   \n",
              "438735  [startrek, com, database, article, year, of, h...   \n",
              "240858           [soundcloud, com, late, nite, tuff, guy]   \n",
              "522517  [gfdkotriam, fo, j, wnq, hepa, com, img, bitco...   \n",
              "5228    [islander, it, images, cani, frida, gdf, gdf, ...   \n",
              "\n",
              "                                             text_stemmed  \\\n",
              "218594    [music, yahoo, com, tsuyoshi, nagabuchi, photo]   \n",
              "438735  [startrek, com, databas, articl, year, of, hel...   \n",
              "240858           [soundcloud, com, late, nite, tuff, guy]   \n",
              "522517  [gfdkotriam, fo, j, wnq, hepa, com, img, bitco...   \n",
              "5228    [island, it, imag, cani, frida, gdf, gdf, gd, ...   \n",
              "\n",
              "                                                text_sent  \n",
              "218594           music yahoo com tsuyoshi nagabuchi photo  \n",
              "438735   startrek com databas articl year of hell part ii  \n",
              "240858                  soundcloud com late nite tuff guy  \n",
              "522517       gfdkotriam fo j wnq hepa com img bitcoin png  \n",
              "5228    island it imag cani frida gdf gdf gd g d f g d...  "
            ]
          },
          "execution_count": 30,
          "metadata": {},
          "output_type": "execute_result"
        }
      ],
      "source": [
        "phish_data.sample(5)"
      ]
    },
    {
      "cell_type": "markdown",
      "metadata": {
        "id": "8As-q2kyH9Vu",
        "papermill": {
          "duration": 0.047001,
          "end_time": "2020-11-21T06:34:28.422836",
          "exception": false,
          "start_time": "2020-11-21T06:34:28.375835",
          "status": "completed"
        },
        "tags": []
      },
      "source": [
        "### Visualization \n",
        "**1. Visualize some important keys using word cloud**"
      ]
    },
    {
      "cell_type": "code",
      "execution_count": 31,
      "metadata": {
        "execution": {
          "iopub.execute_input": "2020-11-21T06:34:28.555245Z",
          "iopub.status.busy": "2020-11-21T06:34:28.554541Z",
          "iopub.status.idle": "2020-11-21T06:34:28.638939Z",
          "shell.execute_reply": "2020-11-21T06:34:28.638435Z"
        },
        "id": "upgolpX1H9Vu",
        "papermill": {
          "duration": 0.168836,
          "end_time": "2020-11-21T06:34:28.639076",
          "exception": false,
          "start_time": "2020-11-21T06:34:28.470240",
          "status": "completed"
        },
        "tags": []
      },
      "outputs": [],
      "source": [
        "#sliceing classes\n",
        "bad_sites = phish_data[phish_data.Label == 'bad']\n",
        "good_sites = phish_data[phish_data.Label == 'good']"
      ]
    },
    {
      "cell_type": "code",
      "execution_count": 32,
      "metadata": {
        "colab": {
          "base_uri": "https://localhost:8080/",
          "height": 337
        },
        "execution": {
          "iopub.execute_input": "2020-11-21T06:34:28.750918Z",
          "iopub.status.busy": "2020-11-21T06:34:28.750259Z",
          "iopub.status.idle": "2020-11-21T06:34:28.754733Z",
          "shell.execute_reply": "2020-11-21T06:34:28.755222Z"
        },
        "id": "5eDI3d1yH9Vu",
        "outputId": "0d20fb34-8745-4c12-ad5d-7707cc1b4405",
        "papermill": {
          "duration": 0.0689,
          "end_time": "2020-11-21T06:34:28.755368",
          "exception": false,
          "start_time": "2020-11-21T06:34:28.686468",
          "status": "completed"
        },
        "tags": []
      },
      "outputs": [
        {
          "data": {
            "text/html": [
              "<div>\n",
              "<style scoped>\n",
              "    .dataframe tbody tr th:only-of-type {\n",
              "        vertical-align: middle;\n",
              "    }\n",
              "\n",
              "    .dataframe tbody tr th {\n",
              "        vertical-align: top;\n",
              "    }\n",
              "\n",
              "    .dataframe thead th {\n",
              "        text-align: right;\n",
              "    }\n",
              "</style>\n",
              "<table border=\"1\" class=\"dataframe\">\n",
              "  <thead>\n",
              "    <tr style=\"text-align: right;\">\n",
              "      <th></th>\n",
              "      <th>URL</th>\n",
              "      <th>Label</th>\n",
              "      <th>text_tokenized</th>\n",
              "      <th>text_stemmed</th>\n",
              "      <th>text_sent</th>\n",
              "    </tr>\n",
              "  </thead>\n",
              "  <tbody>\n",
              "    <tr>\n",
              "      <th>0</th>\n",
              "      <td>nobell.it/70ffb52d079109dca5664cce6f317373782/...</td>\n",
              "      <td>bad</td>\n",
              "      <td>[nobell, it, ffb, d, dca, cce, f, login, SkyPe...</td>\n",
              "      <td>[nobel, it, ffb, d, dca, cce, f, login, skype,...</td>\n",
              "      <td>nobel it ffb d dca cce f login skype com en cg...</td>\n",
              "    </tr>\n",
              "    <tr>\n",
              "      <th>1</th>\n",
              "      <td>www.dghjdgf.com/paypal.co.uk/cycgi-bin/webscrc...</td>\n",
              "      <td>bad</td>\n",
              "      <td>[www, dghjdgf, com, paypal, co, uk, cycgi, bin...</td>\n",
              "      <td>[www, dghjdgf, com, paypal, co, uk, cycgi, bin...</td>\n",
              "      <td>www dghjdgf com paypal co uk cycgi bin webscrc...</td>\n",
              "    </tr>\n",
              "    <tr>\n",
              "      <th>2</th>\n",
              "      <td>serviciosbys.com/paypal.cgi.bin.get-into.herf....</td>\n",
              "      <td>bad</td>\n",
              "      <td>[serviciosbys, com, paypal, cgi, bin, get, int...</td>\n",
              "      <td>[serviciosbi, com, paypal, cgi, bin, get, into...</td>\n",
              "      <td>serviciosbi com paypal cgi bin get into herf s...</td>\n",
              "    </tr>\n",
              "    <tr>\n",
              "      <th>3</th>\n",
              "      <td>mail.printakid.com/www.online.americanexpress....</td>\n",
              "      <td>bad</td>\n",
              "      <td>[mail, printakid, com, www, online, americanex...</td>\n",
              "      <td>[mail, printakid, com, www, onlin, americanexp...</td>\n",
              "      <td>mail printakid com www onlin americanexpress c...</td>\n",
              "    </tr>\n",
              "    <tr>\n",
              "      <th>4</th>\n",
              "      <td>thewhiskeydregs.com/wp-content/themes/widescre...</td>\n",
              "      <td>bad</td>\n",
              "      <td>[thewhiskeydregs, com, wp, content, themes, wi...</td>\n",
              "      <td>[thewhiskeydreg, com, wp, content, theme, wide...</td>\n",
              "      <td>thewhiskeydreg com wp content theme widescreen...</td>\n",
              "    </tr>\n",
              "  </tbody>\n",
              "</table>\n",
              "</div>"
            ],
            "text/plain": [
              "                                                 URL Label  \\\n",
              "0  nobell.it/70ffb52d079109dca5664cce6f317373782/...   bad   \n",
              "1  www.dghjdgf.com/paypal.co.uk/cycgi-bin/webscrc...   bad   \n",
              "2  serviciosbys.com/paypal.cgi.bin.get-into.herf....   bad   \n",
              "3  mail.printakid.com/www.online.americanexpress....   bad   \n",
              "4  thewhiskeydregs.com/wp-content/themes/widescre...   bad   \n",
              "\n",
              "                                      text_tokenized  \\\n",
              "0  [nobell, it, ffb, d, dca, cce, f, login, SkyPe...   \n",
              "1  [www, dghjdgf, com, paypal, co, uk, cycgi, bin...   \n",
              "2  [serviciosbys, com, paypal, cgi, bin, get, int...   \n",
              "3  [mail, printakid, com, www, online, americanex...   \n",
              "4  [thewhiskeydregs, com, wp, content, themes, wi...   \n",
              "\n",
              "                                        text_stemmed  \\\n",
              "0  [nobel, it, ffb, d, dca, cce, f, login, skype,...   \n",
              "1  [www, dghjdgf, com, paypal, co, uk, cycgi, bin...   \n",
              "2  [serviciosbi, com, paypal, cgi, bin, get, into...   \n",
              "3  [mail, printakid, com, www, onlin, americanexp...   \n",
              "4  [thewhiskeydreg, com, wp, content, theme, wide...   \n",
              "\n",
              "                                           text_sent  \n",
              "0  nobel it ffb d dca cce f login skype com en cg...  \n",
              "1  www dghjdgf com paypal co uk cycgi bin webscrc...  \n",
              "2  serviciosbi com paypal cgi bin get into herf s...  \n",
              "3  mail printakid com www onlin americanexpress c...  \n",
              "4  thewhiskeydreg com wp content theme widescreen...  "
            ]
          },
          "execution_count": 32,
          "metadata": {},
          "output_type": "execute_result"
        }
      ],
      "source": [
        "bad_sites.head()"
      ]
    },
    {
      "cell_type": "code",
      "execution_count": 33,
      "metadata": {
        "colab": {
          "base_uri": "https://localhost:8080/",
          "height": 319
        },
        "execution": {
          "iopub.execute_input": "2020-11-21T06:34:28.871609Z",
          "iopub.status.busy": "2020-11-21T06:34:28.870886Z",
          "iopub.status.idle": "2020-11-21T06:34:28.876530Z",
          "shell.execute_reply": "2020-11-21T06:34:28.876008Z"
        },
        "id": "6RpOjFmzH9Vu",
        "outputId": "e3be1e34-0efe-4835-b8a4-0e9b62a040f0",
        "papermill": {
          "duration": 0.07322,
          "end_time": "2020-11-21T06:34:28.876642",
          "exception": false,
          "start_time": "2020-11-21T06:34:28.803422",
          "status": "completed"
        },
        "tags": []
      },
      "outputs": [
        {
          "data": {
            "text/html": [
              "<div>\n",
              "<style scoped>\n",
              "    .dataframe tbody tr th:only-of-type {\n",
              "        vertical-align: middle;\n",
              "    }\n",
              "\n",
              "    .dataframe tbody tr th {\n",
              "        vertical-align: top;\n",
              "    }\n",
              "\n",
              "    .dataframe thead th {\n",
              "        text-align: right;\n",
              "    }\n",
              "</style>\n",
              "<table border=\"1\" class=\"dataframe\">\n",
              "  <thead>\n",
              "    <tr style=\"text-align: right;\">\n",
              "      <th></th>\n",
              "      <th>URL</th>\n",
              "      <th>Label</th>\n",
              "      <th>text_tokenized</th>\n",
              "      <th>text_stemmed</th>\n",
              "      <th>text_sent</th>\n",
              "    </tr>\n",
              "  </thead>\n",
              "  <tbody>\n",
              "    <tr>\n",
              "      <th>18231</th>\n",
              "      <td>esxcc.com/js/index.htm?us.battle.net/noghn/en/...</td>\n",
              "      <td>good</td>\n",
              "      <td>[esxcc, com, js, index, htm, us, battle, net, ...</td>\n",
              "      <td>[esxcc, com, js, index, htm, us, battl, net, n...</td>\n",
              "      <td>esxcc com js index htm us battl net noghn en r...</td>\n",
              "    </tr>\n",
              "    <tr>\n",
              "      <th>18232</th>\n",
              "      <td>www\u000eeira¯&amp;nvinip¿ncH¯wVö%ÆåyDaHðû/ÏyEùu\u0003Ë\\nÓ\u00176...</td>\n",
              "      <td>good</td>\n",
              "      <td>[www, eira, nvinip, ncH, wV, yDaH, yE, u, rT, ...</td>\n",
              "      <td>[www, eira, nvinip, nch, wv, ydah, ye, u, rt, ...</td>\n",
              "      <td>www eira nvinip nch wv ydah ye u rt u g m i xz...</td>\n",
              "    </tr>\n",
              "    <tr>\n",
              "      <th>18233</th>\n",
              "      <td>'www.institutocgr.coo/web/media/syqvem/dk-\u000fóij...</td>\n",
              "      <td>good</td>\n",
              "      <td>[www, institutocgr, coo, web, media, syqvem, d...</td>\n",
              "      <td>[www, institutocgr, coo, web, media, syqvem, d...</td>\n",
              "      <td>www institutocgr coo web media syqvem dk ij r ...</td>\n",
              "    </tr>\n",
              "    <tr>\n",
              "      <th>18234</th>\n",
              "      <td>\u0011\u0018Yìê\fkoãÕ»Î§DéÎ\u0002l½ñ¡ââqtò¸/à; Í</td>\n",
              "      <td>good</td>\n",
              "      <td>[Y, ko, D, l, qt]</td>\n",
              "      <td>[y, ko, d, l, qt]</td>\n",
              "      <td>y ko d l qt</td>\n",
              "    </tr>\n",
              "    <tr>\n",
              "      <th>18236</th>\n",
              "      <td>ruta89fm.com/images/AS@Vies/1i75cf7b16vc&lt;F\u0015d16...</td>\n",
              "      <td>good</td>\n",
              "      <td>[ruta, fm, com, images, AS, Vies, i, cf, b, vc...</td>\n",
              "      <td>[ruta, fm, com, imag, as, vie, i, cf, b, vc, f...</td>\n",
              "      <td>ruta fm com imag as vie i cf b vc f d b g sd v...</td>\n",
              "    </tr>\n",
              "  </tbody>\n",
              "</table>\n",
              "</div>"
            ],
            "text/plain": [
              "                                                     URL Label  \\\n",
              "18231  esxcc.com/js/index.htm?us.battle.net/noghn/en/...  good   \n",
              "18232  www\u000eeira¯&nvinip¿ncH¯wVö%ÆåyDaHðû/ÏyEùu\u0003Ë\\nÓ\u00176...  good   \n",
              "18233  'www.institutocgr.coo/web/media/syqvem/dk-\u000fóij...  good   \n",
              "18234                  \u0011\u0018Yìê\n",
              "koãÕ»Î§DéÎ\u0002l½ñ¡ââqtò¸/à; Í  good   \n",
              "18236  ruta89fm.com/images/AS@Vies/1i75cf7b16vc<F\u0015d16...  good   \n",
              "\n",
              "                                          text_tokenized  \\\n",
              "18231  [esxcc, com, js, index, htm, us, battle, net, ...   \n",
              "18232  [www, eira, nvinip, ncH, wV, yDaH, yE, u, rT, ...   \n",
              "18233  [www, institutocgr, coo, web, media, syqvem, d...   \n",
              "18234                                  [Y, ko, D, l, qt]   \n",
              "18236  [ruta, fm, com, images, AS, Vies, i, cf, b, vc...   \n",
              "\n",
              "                                            text_stemmed  \\\n",
              "18231  [esxcc, com, js, index, htm, us, battl, net, n...   \n",
              "18232  [www, eira, nvinip, nch, wv, ydah, ye, u, rt, ...   \n",
              "18233  [www, institutocgr, coo, web, media, syqvem, d...   \n",
              "18234                                  [y, ko, d, l, qt]   \n",
              "18236  [ruta, fm, com, imag, as, vie, i, cf, b, vc, f...   \n",
              "\n",
              "                                               text_sent  \n",
              "18231  esxcc com js index htm us battl net noghn en r...  \n",
              "18232  www eira nvinip nch wv ydah ye u rt u g m i xz...  \n",
              "18233  www institutocgr coo web media syqvem dk ij r ...  \n",
              "18234                                        y ko d l qt  \n",
              "18236  ruta fm com imag as vie i cf b vc f d b g sd v...  "
            ]
          },
          "execution_count": 33,
          "metadata": {},
          "output_type": "execute_result"
        }
      ],
      "source": [
        "good_sites.head()"
      ]
    },
    {
      "cell_type": "markdown",
      "metadata": {
        "id": "NmM-VggtH9Vu",
        "papermill": {
          "duration": 0.048404,
          "end_time": "2020-11-21T06:34:28.974215",
          "exception": false,
          "start_time": "2020-11-21T06:34:28.925811",
          "status": "completed"
        },
        "tags": []
      },
      "source": [
        "* create a function to visualize the important keys from url "
      ]
    },
    {
      "cell_type": "code",
      "execution_count": 34,
      "metadata": {
        "execution": {
          "iopub.execute_input": "2020-11-21T06:34:29.082566Z",
          "iopub.status.busy": "2020-11-21T06:34:29.081703Z",
          "iopub.status.idle": "2020-11-21T06:34:29.084451Z",
          "shell.execute_reply": "2020-11-21T06:34:29.083843Z"
        },
        "id": "YXgEq0HMH9Vu",
        "papermill": {
          "duration": 0.061535,
          "end_time": "2020-11-21T06:34:29.084560",
          "exception": false,
          "start_time": "2020-11-21T06:34:29.023025",
          "status": "completed"
        },
        "tags": []
      },
      "outputs": [],
      "source": [
        "def plot_wordcloud(text, mask=None, max_words=400, max_font_size=120, figure_size=(24.0,16.0), \n",
        "                   title = None, title_size=40, image_color=False):\n",
        "    stopwords = set(STOPWORDS)\n",
        "    more_stopwords = {'com','http'}\n",
        "    stopwords = stopwords.union(more_stopwords)\n",
        "\n",
        "    wordcloud = WordCloud(background_color='white',\n",
        "                    stopwords = stopwords,\n",
        "                    max_words = max_words,\n",
        "                    max_font_size = max_font_size, \n",
        "                    random_state = 42,\n",
        "                    mask = mask)\n",
        "    wordcloud.generate(text)\n",
        "    \n",
        "    plt.figure(figsize=figure_size)\n",
        "    if image_color:\n",
        "        image_colors = ImageColorGenerator(mask);\n",
        "        plt.imshow(wordcloud.recolor(color_func=image_colors), interpolation=\"bilinear\");\n",
        "        plt.title(title, fontdict={'size': title_size,  \n",
        "                                  'verticalalignment': 'bottom'})\n",
        "    else:\n",
        "        plt.imshow(wordcloud);\n",
        "        plt.title(title, fontdict={'size': title_size, 'color': 'green', \n",
        "                                  'verticalalignment': 'bottom'})\n",
        "    plt.axis('off');\n",
        "    plt.tight_layout()  \n",
        "d = '../input/masks/masks-wordclouds/'"
      ]
    },
    {
      "cell_type": "code",
      "execution_count": 35,
      "metadata": {
        "execution": {
          "iopub.execute_input": "2020-11-21T06:34:29.187172Z",
          "iopub.status.busy": "2020-11-21T06:34:29.186481Z",
          "iopub.status.idle": "2020-11-21T06:34:29.189334Z",
          "shell.execute_reply": "2020-11-21T06:34:29.188697Z"
        },
        "id": "MJfsjN-DH9Vu",
        "papermill": {
          "duration": 0.056112,
          "end_time": "2020-11-21T06:34:29.189440",
          "exception": false,
          "start_time": "2020-11-21T06:34:29.133328",
          "status": "completed"
        },
        "tags": []
      },
      "outputs": [],
      "source": [
        "data = good_sites.text_sent\n",
        "data.reset_index(drop=True, inplace=True)"
      ]
    },
    {
      "cell_type": "code",
      "execution_count": 36,
      "metadata": {
        "execution": {
          "iopub.execute_input": "2020-11-21T06:34:30.686565Z",
          "iopub.status.busy": "2020-11-21T06:34:30.685613Z",
          "iopub.status.idle": "2020-11-21T06:34:30.688797Z",
          "shell.execute_reply": "2020-11-21T06:34:30.688300Z"
        },
        "id": "zGhZJGhkH9Vv",
        "papermill": {
          "duration": 0.063973,
          "end_time": "2020-11-21T06:34:30.688902",
          "exception": false,
          "start_time": "2020-11-21T06:34:30.624929",
          "status": "completed"
        },
        "tags": []
      },
      "outputs": [],
      "source": [
        "data = bad_sites.text_sent\n",
        "data.reset_index(drop=True, inplace=True)"
      ]
    },
    {
      "cell_type": "markdown",
      "metadata": {
        "id": "NGoJtuD6H9Vv",
        "papermill": {
          "duration": 0.059163,
          "end_time": "2020-11-21T06:34:33.233117",
          "exception": false,
          "start_time": "2020-11-21T06:34:33.173954",
          "status": "completed"
        },
        "tags": []
      },
      "source": [
        "### Creating Model\n",
        "#### CountVectorizer\n",
        "* CountVectorizer is used to transform a corpora of text to a vector of term / token counts."
      ]
    },
    {
      "cell_type": "code",
      "execution_count": 37,
      "metadata": {
        "execution": {
          "iopub.execute_input": "2020-11-21T06:34:33.356500Z",
          "iopub.status.busy": "2020-11-21T06:34:33.355854Z",
          "iopub.status.idle": "2020-11-21T06:34:33.358407Z",
          "shell.execute_reply": "2020-11-21T06:34:33.357796Z"
        },
        "id": "Yqs9K3pGH9Vv",
        "papermill": {
          "duration": 0.066004,
          "end_time": "2020-11-21T06:34:33.358522",
          "exception": false,
          "start_time": "2020-11-21T06:34:33.292518",
          "status": "completed"
        },
        "tags": []
      },
      "outputs": [],
      "source": [
        "#create cv object\n",
        "cv = CountVectorizer()"
      ]
    },
    {
      "cell_type": "code",
      "execution_count": 38,
      "metadata": {
        "colab": {
          "base_uri": "https://localhost:8080/"
        },
        "execution": {
          "iopub.execute_input": "2020-11-21T06:34:33.484011Z",
          "iopub.status.busy": "2020-11-21T06:34:33.483319Z",
          "iopub.status.idle": "2020-11-21T06:34:33.493554Z",
          "shell.execute_reply": "2020-11-21T06:34:33.492820Z"
        },
        "id": "TxjRh0OkH9Vv",
        "outputId": "5b37551d-6a78-40f8-85a6-6ef0a9feb4d2",
        "papermill": {
          "duration": 0.075877,
          "end_time": "2020-11-21T06:34:33.493708",
          "exception": false,
          "start_time": "2020-11-21T06:34:33.417831",
          "status": "completed"
        },
        "tags": []
      },
      "outputs": [
        {
          "name": "stdout",
          "output_type": "stream",
          "text": [
            "Help on CountVectorizer in module sklearn.feature_extraction.text object:\n",
            "\n",
            "class CountVectorizer(_VectorizerMixin, sklearn.base.BaseEstimator)\n",
            " |  CountVectorizer(*, input='content', encoding='utf-8', decode_error='strict', strip_accents=None, lowercase=True, preprocessor=None, tokenizer=None, stop_words=None, token_pattern='(?u)\\\\b\\\\w\\\\w+\\\\b', ngram_range=(1, 1), analyzer='word', max_df=1.0, min_df=1, max_features=None, vocabulary=None, binary=False, dtype=<class 'numpy.int64'>)\n",
            " |  \n",
            " |  Convert a collection of text documents to a matrix of token counts.\n",
            " |  \n",
            " |  This implementation produces a sparse representation of the counts using\n",
            " |  scipy.sparse.csr_matrix.\n",
            " |  \n",
            " |  If you do not provide an a-priori dictionary and you do not use an analyzer\n",
            " |  that does some kind of feature selection then the number of features will\n",
            " |  be equal to the vocabulary size found by analyzing the data.\n",
            " |  \n",
            " |  Read more in the :ref:`User Guide <text_feature_extraction>`.\n",
            " |  \n",
            " |  Parameters\n",
            " |  ----------\n",
            " |  input : {'filename', 'file', 'content'}, default='content'\n",
            " |      - If `'filename'`, the sequence passed as an argument to fit is\n",
            " |        expected to be a list of filenames that need reading to fetch\n",
            " |        the raw content to analyze.\n",
            " |  \n",
            " |      - If `'file'`, the sequence items must have a 'read' method (file-like\n",
            " |        object) that is called to fetch the bytes in memory.\n",
            " |  \n",
            " |      - If `'content'`, the input is expected to be a sequence of items that\n",
            " |        can be of type string or byte.\n",
            " |  \n",
            " |  encoding : str, default='utf-8'\n",
            " |      If bytes or files are given to analyze, this encoding is used to\n",
            " |      decode.\n",
            " |  \n",
            " |  decode_error : {'strict', 'ignore', 'replace'}, default='strict'\n",
            " |      Instruction on what to do if a byte sequence is given to analyze that\n",
            " |      contains characters not of the given `encoding`. By default, it is\n",
            " |      'strict', meaning that a UnicodeDecodeError will be raised. Other\n",
            " |      values are 'ignore' and 'replace'.\n",
            " |  \n",
            " |  strip_accents : {'ascii', 'unicode'}, default=None\n",
            " |      Remove accents and perform other character normalization\n",
            " |      during the preprocessing step.\n",
            " |      'ascii' is a fast method that only works on characters that have\n",
            " |      an direct ASCII mapping.\n",
            " |      'unicode' is a slightly slower method that works on any characters.\n",
            " |      None (default) does nothing.\n",
            " |  \n",
            " |      Both 'ascii' and 'unicode' use NFKD normalization from\n",
            " |      :func:`unicodedata.normalize`.\n",
            " |  \n",
            " |  lowercase : bool, default=True\n",
            " |      Convert all characters to lowercase before tokenizing.\n",
            " |  \n",
            " |  preprocessor : callable, default=None\n",
            " |      Override the preprocessing (strip_accents and lowercase) stage while\n",
            " |      preserving the tokenizing and n-grams generation steps.\n",
            " |      Only applies if ``analyzer`` is not callable.\n",
            " |  \n",
            " |  tokenizer : callable, default=None\n",
            " |      Override the string tokenization step while preserving the\n",
            " |      preprocessing and n-grams generation steps.\n",
            " |      Only applies if ``analyzer == 'word'``.\n",
            " |  \n",
            " |  stop_words : {'english'}, list, default=None\n",
            " |      If 'english', a built-in stop word list for English is used.\n",
            " |      There are several known issues with 'english' and you should\n",
            " |      consider an alternative (see :ref:`stop_words`).\n",
            " |  \n",
            " |      If a list, that list is assumed to contain stop words, all of which\n",
            " |      will be removed from the resulting tokens.\n",
            " |      Only applies if ``analyzer == 'word'``.\n",
            " |  \n",
            " |      If None, no stop words will be used. max_df can be set to a value\n",
            " |      in the range [0.7, 1.0) to automatically detect and filter stop\n",
            " |      words based on intra corpus document frequency of terms.\n",
            " |  \n",
            " |  token_pattern : str, default=r\"(?u)\\\\b\\\\w\\\\w+\\\\b\"\n",
            " |      Regular expression denoting what constitutes a \"token\", only used\n",
            " |      if ``analyzer == 'word'``. The default regexp select tokens of 2\n",
            " |      or more alphanumeric characters (punctuation is completely ignored\n",
            " |      and always treated as a token separator).\n",
            " |  \n",
            " |      If there is a capturing group in token_pattern then the\n",
            " |      captured group content, not the entire match, becomes the token.\n",
            " |      At most one capturing group is permitted.\n",
            " |  \n",
            " |  ngram_range : tuple (min_n, max_n), default=(1, 1)\n",
            " |      The lower and upper boundary of the range of n-values for different\n",
            " |      word n-grams or char n-grams to be extracted. All values of n such\n",
            " |      such that min_n <= n <= max_n will be used. For example an\n",
            " |      ``ngram_range`` of ``(1, 1)`` means only unigrams, ``(1, 2)`` means\n",
            " |      unigrams and bigrams, and ``(2, 2)`` means only bigrams.\n",
            " |      Only applies if ``analyzer`` is not callable.\n",
            " |  \n",
            " |  analyzer : {'word', 'char', 'char_wb'} or callable, default='word'\n",
            " |      Whether the feature should be made of word n-gram or character\n",
            " |      n-grams.\n",
            " |      Option 'char_wb' creates character n-grams only from text inside\n",
            " |      word boundaries; n-grams at the edges of words are padded with space.\n",
            " |  \n",
            " |      If a callable is passed it is used to extract the sequence of features\n",
            " |      out of the raw, unprocessed input.\n",
            " |  \n",
            " |      .. versionchanged:: 0.21\n",
            " |  \n",
            " |      Since v0.21, if ``input`` is ``filename`` or ``file``, the data is\n",
            " |      first read from the file and then passed to the given callable\n",
            " |      analyzer.\n",
            " |  \n",
            " |  max_df : float in range [0.0, 1.0] or int, default=1.0\n",
            " |      When building the vocabulary ignore terms that have a document\n",
            " |      frequency strictly higher than the given threshold (corpus-specific\n",
            " |      stop words).\n",
            " |      If float, the parameter represents a proportion of documents, integer\n",
            " |      absolute counts.\n",
            " |      This parameter is ignored if vocabulary is not None.\n",
            " |  \n",
            " |  min_df : float in range [0.0, 1.0] or int, default=1\n",
            " |      When building the vocabulary ignore terms that have a document\n",
            " |      frequency strictly lower than the given threshold. This value is also\n",
            " |      called cut-off in the literature.\n",
            " |      If float, the parameter represents a proportion of documents, integer\n",
            " |      absolute counts.\n",
            " |      This parameter is ignored if vocabulary is not None.\n",
            " |  \n",
            " |  max_features : int, default=None\n",
            " |      If not None, build a vocabulary that only consider the top\n",
            " |      max_features ordered by term frequency across the corpus.\n",
            " |  \n",
            " |      This parameter is ignored if vocabulary is not None.\n",
            " |  \n",
            " |  vocabulary : Mapping or iterable, default=None\n",
            " |      Either a Mapping (e.g., a dict) where keys are terms and values are\n",
            " |      indices in the feature matrix, or an iterable over terms. If not\n",
            " |      given, a vocabulary is determined from the input documents. Indices\n",
            " |      in the mapping should not be repeated and should not have any gap\n",
            " |      between 0 and the largest index.\n",
            " |  \n",
            " |  binary : bool, default=False\n",
            " |      If True, all non zero counts are set to 1. This is useful for discrete\n",
            " |      probabilistic models that model binary events rather than integer\n",
            " |      counts.\n",
            " |  \n",
            " |  dtype : type, default=np.int64\n",
            " |      Type of the matrix returned by fit_transform() or transform().\n",
            " |  \n",
            " |  Attributes\n",
            " |  ----------\n",
            " |  vocabulary_ : dict\n",
            " |      A mapping of terms to feature indices.\n",
            " |  \n",
            " |  fixed_vocabulary_ : bool\n",
            " |      True if a fixed vocabulary of term to indices mapping\n",
            " |      is provided by the user.\n",
            " |  \n",
            " |  stop_words_ : set\n",
            " |      Terms that were ignored because they either:\n",
            " |  \n",
            " |        - occurred in too many documents (`max_df`)\n",
            " |        - occurred in too few documents (`min_df`)\n",
            " |        - were cut off by feature selection (`max_features`).\n",
            " |  \n",
            " |      This is only available if no vocabulary was given.\n",
            " |  \n",
            " |  See Also\n",
            " |  --------\n",
            " |  HashingVectorizer : Convert a collection of text documents to a\n",
            " |      matrix of token counts.\n",
            " |  \n",
            " |  TfidfVectorizer : Convert a collection of raw documents to a matrix\n",
            " |      of TF-IDF features.\n",
            " |  \n",
            " |  Notes\n",
            " |  -----\n",
            " |  The ``stop_words_`` attribute can get large and increase the model size\n",
            " |  when pickling. This attribute is provided only for introspection and can\n",
            " |  be safely removed using delattr or set to None before pickling.\n",
            " |  \n",
            " |  Examples\n",
            " |  --------\n",
            " |  >>> from sklearn.feature_extraction.text import CountVectorizer\n",
            " |  >>> corpus = [\n",
            " |  ...     'This is the first document.',\n",
            " |  ...     'This document is the second document.',\n",
            " |  ...     'And this is the third one.',\n",
            " |  ...     'Is this the first document?',\n",
            " |  ... ]\n",
            " |  >>> vectorizer = CountVectorizer()\n",
            " |  >>> X = vectorizer.fit_transform(corpus)\n",
            " |  >>> vectorizer.get_feature_names_out()\n",
            " |  array(['and', 'document', 'first', 'is', 'one', 'second', 'the', 'third',\n",
            " |         'this'], ...)\n",
            " |  >>> print(X.toarray())\n",
            " |  [[0 1 1 1 0 0 1 0 1]\n",
            " |   [0 2 0 1 0 1 1 0 1]\n",
            " |   [1 0 0 1 1 0 1 1 1]\n",
            " |   [0 1 1 1 0 0 1 0 1]]\n",
            " |  >>> vectorizer2 = CountVectorizer(analyzer='word', ngram_range=(2, 2))\n",
            " |  >>> X2 = vectorizer2.fit_transform(corpus)\n",
            " |  >>> vectorizer2.get_feature_names_out()\n",
            " |  array(['and this', 'document is', 'first document', 'is the', 'is this',\n",
            " |         'second document', 'the first', 'the second', 'the third', 'third one',\n",
            " |         'this document', 'this is', 'this the'], ...)\n",
            " |   >>> print(X2.toarray())\n",
            " |   [[0 0 1 1 0 0 1 0 0 0 0 1 0]\n",
            " |   [0 1 0 1 0 1 0 1 0 0 1 0 0]\n",
            " |   [1 0 0 1 0 0 0 0 1 1 0 1 0]\n",
            " |   [0 0 1 0 1 0 1 0 0 0 0 0 1]]\n",
            " |  \n",
            " |  Method resolution order:\n",
            " |      CountVectorizer\n",
            " |      _VectorizerMixin\n",
            " |      sklearn.base.BaseEstimator\n",
            " |      builtins.object\n",
            " |  \n",
            " |  Methods defined here:\n",
            " |  \n",
            " |  __init__(self, *, input='content', encoding='utf-8', decode_error='strict', strip_accents=None, lowercase=True, preprocessor=None, tokenizer=None, stop_words=None, token_pattern='(?u)\\\\b\\\\w\\\\w+\\\\b', ngram_range=(1, 1), analyzer='word', max_df=1.0, min_df=1, max_features=None, vocabulary=None, binary=False, dtype=<class 'numpy.int64'>)\n",
            " |      Initialize self.  See help(type(self)) for accurate signature.\n",
            " |  \n",
            " |  fit(self, raw_documents, y=None)\n",
            " |      Learn a vocabulary dictionary of all tokens in the raw documents.\n",
            " |      \n",
            " |      Parameters\n",
            " |      ----------\n",
            " |      raw_documents : iterable\n",
            " |          An iterable which generates either str, unicode or file objects.\n",
            " |      \n",
            " |      y : None\n",
            " |          This parameter is ignored.\n",
            " |      \n",
            " |      Returns\n",
            " |      -------\n",
            " |      self : object\n",
            " |          Fitted vectorizer.\n",
            " |  \n",
            " |  fit_transform(self, raw_documents, y=None)\n",
            " |      Learn the vocabulary dictionary and return document-term matrix.\n",
            " |      \n",
            " |      This is equivalent to fit followed by transform, but more efficiently\n",
            " |      implemented.\n",
            " |      \n",
            " |      Parameters\n",
            " |      ----------\n",
            " |      raw_documents : iterable\n",
            " |          An iterable which generates either str, unicode or file objects.\n",
            " |      \n",
            " |      y : None\n",
            " |          This parameter is ignored.\n",
            " |      \n",
            " |      Returns\n",
            " |      -------\n",
            " |      X : array of shape (n_samples, n_features)\n",
            " |          Document-term matrix.\n",
            " |  \n",
            " |  get_feature_names(self)\n",
            " |      DEPRECATED: get_feature_names is deprecated in 1.0 and will be removed in 1.2. Please use get_feature_names_out instead.\n",
            " |      \n",
            " |      Array mapping from feature integer indices to feature name.\n",
            " |      \n",
            " |          Returns\n",
            " |          -------\n",
            " |          feature_names : list\n",
            " |              A list of feature names.\n",
            " |  \n",
            " |  get_feature_names_out(self, input_features=None)\n",
            " |      Get output feature names for transformation.\n",
            " |      \n",
            " |      Parameters\n",
            " |      ----------\n",
            " |      input_features : array-like of str or None, default=None\n",
            " |          Not used, present here for API consistency by convention.\n",
            " |      \n",
            " |      Returns\n",
            " |      -------\n",
            " |      feature_names_out : ndarray of str objects\n",
            " |          Transformed feature names.\n",
            " |  \n",
            " |  inverse_transform(self, X)\n",
            " |      Return terms per document with nonzero entries in X.\n",
            " |      \n",
            " |      Parameters\n",
            " |      ----------\n",
            " |      X : {array-like, sparse matrix} of shape (n_samples, n_features)\n",
            " |          Document-term matrix.\n",
            " |      \n",
            " |      Returns\n",
            " |      -------\n",
            " |      X_inv : list of arrays of shape (n_samples,)\n",
            " |          List of arrays of terms.\n",
            " |  \n",
            " |  transform(self, raw_documents)\n",
            " |      Transform documents to document-term matrix.\n",
            " |      \n",
            " |      Extract token counts out of raw text documents using the vocabulary\n",
            " |      fitted with fit or the one provided to the constructor.\n",
            " |      \n",
            " |      Parameters\n",
            " |      ----------\n",
            " |      raw_documents : iterable\n",
            " |          An iterable which generates either str, unicode or file objects.\n",
            " |      \n",
            " |      Returns\n",
            " |      -------\n",
            " |      X : sparse matrix of shape (n_samples, n_features)\n",
            " |          Document-term matrix.\n",
            " |  \n",
            " |  ----------------------------------------------------------------------\n",
            " |  Methods inherited from _VectorizerMixin:\n",
            " |  \n",
            " |  build_analyzer(self)\n",
            " |      Return a callable to process input data.\n",
            " |      \n",
            " |      The callable handles that handles preprocessing, tokenization, and\n",
            " |      n-grams generation.\n",
            " |      \n",
            " |      Returns\n",
            " |      -------\n",
            " |      analyzer: callable\n",
            " |          A function to handle preprocessing, tokenization\n",
            " |          and n-grams generation.\n",
            " |  \n",
            " |  build_preprocessor(self)\n",
            " |      Return a function to preprocess the text before tokenization.\n",
            " |      \n",
            " |      Returns\n",
            " |      -------\n",
            " |      preprocessor: callable\n",
            " |            A function to preprocess the text before tokenization.\n",
            " |  \n",
            " |  build_tokenizer(self)\n",
            " |      Return a function that splits a string into a sequence of tokens.\n",
            " |      \n",
            " |      Returns\n",
            " |      -------\n",
            " |      tokenizer: callable\n",
            " |            A function to split a string into a sequence of tokens.\n",
            " |  \n",
            " |  decode(self, doc)\n",
            " |      Decode the input into a string of unicode symbols.\n",
            " |      \n",
            " |      The decoding strategy depends on the vectorizer parameters.\n",
            " |      \n",
            " |      Parameters\n",
            " |      ----------\n",
            " |      doc : bytes or str\n",
            " |          The string to decode.\n",
            " |      \n",
            " |      Returns\n",
            " |      -------\n",
            " |      doc: str\n",
            " |          A string of unicode symbols.\n",
            " |  \n",
            " |  get_stop_words(self)\n",
            " |      Build or fetch the effective stop words list.\n",
            " |      \n",
            " |      Returns\n",
            " |      -------\n",
            " |      stop_words: list or None\n",
            " |              A list of stop words.\n",
            " |  \n",
            " |  ----------------------------------------------------------------------\n",
            " |  Data descriptors inherited from _VectorizerMixin:\n",
            " |  \n",
            " |  __dict__\n",
            " |      dictionary for instance variables (if defined)\n",
            " |  \n",
            " |  __weakref__\n",
            " |      list of weak references to the object (if defined)\n",
            " |  \n",
            " |  ----------------------------------------------------------------------\n",
            " |  Methods inherited from sklearn.base.BaseEstimator:\n",
            " |  \n",
            " |  __getstate__(self)\n",
            " |  \n",
            " |  __repr__(self, N_CHAR_MAX=700)\n",
            " |      Return repr(self).\n",
            " |  \n",
            " |  __setstate__(self, state)\n",
            " |  \n",
            " |  get_params(self, deep=True)\n",
            " |      Get parameters for this estimator.\n",
            " |      \n",
            " |      Parameters\n",
            " |      ----------\n",
            " |      deep : bool, default=True\n",
            " |          If True, will return the parameters for this estimator and\n",
            " |          contained subobjects that are estimators.\n",
            " |      \n",
            " |      Returns\n",
            " |      -------\n",
            " |      params : dict\n",
            " |          Parameter names mapped to their values.\n",
            " |  \n",
            " |  set_params(self, **params)\n",
            " |      Set the parameters of this estimator.\n",
            " |      \n",
            " |      The method works on simple estimators as well as on nested objects\n",
            " |      (such as :class:`~sklearn.pipeline.Pipeline`). The latter have\n",
            " |      parameters of the form ``<component>__<parameter>`` so that it's\n",
            " |      possible to update each component of a nested object.\n",
            " |      \n",
            " |      Parameters\n",
            " |      ----------\n",
            " |      **params : dict\n",
            " |          Estimator parameters.\n",
            " |      \n",
            " |      Returns\n",
            " |      -------\n",
            " |      self : estimator instance\n",
            " |          Estimator instance.\n",
            "\n"
          ]
        }
      ],
      "source": [
        "help(CountVectorizer())"
      ]
    },
    {
      "cell_type": "code",
      "execution_count": 39,
      "metadata": {
        "execution": {
          "iopub.execute_input": "2020-11-21T06:34:33.645823Z",
          "iopub.status.busy": "2020-11-21T06:34:33.635605Z",
          "iopub.status.idle": "2020-11-21T06:34:39.923174Z",
          "shell.execute_reply": "2020-11-21T06:34:39.922488Z"
        },
        "id": "oSAHm_q0H9Vv",
        "papermill": {
          "duration": 6.366422,
          "end_time": "2020-11-21T06:34:39.923294",
          "exception": false,
          "start_time": "2020-11-21T06:34:33.556872",
          "status": "completed"
        },
        "tags": []
      },
      "outputs": [],
      "source": [
        "feature = cv.fit_transform(phish_data.text_sent) #transform all text which we tokenize and stemed"
      ]
    },
    {
      "cell_type": "code",
      "execution_count": 40,
      "metadata": {
        "colab": {
          "base_uri": "https://localhost:8080/"
        },
        "execution": {
          "iopub.execute_input": "2020-11-21T06:34:40.049686Z",
          "iopub.status.busy": "2020-11-21T06:34:40.048966Z",
          "iopub.status.idle": "2020-11-21T06:34:40.055355Z",
          "shell.execute_reply": "2020-11-21T06:34:40.055821Z"
        },
        "id": "QGW7ndn3H9Vv",
        "outputId": "16803a89-35f8-4e12-9ea4-9c9032993e98",
        "papermill": {
          "duration": 0.071731,
          "end_time": "2020-11-21T06:34:40.055960",
          "exception": false,
          "start_time": "2020-11-21T06:34:39.984229",
          "status": "completed"
        },
        "tags": []
      },
      "outputs": [
        {
          "data": {
            "text/plain": [
              "array([[0, 0, 0, ..., 0, 0, 0],\n",
              "       [0, 0, 0, ..., 0, 0, 0],\n",
              "       [0, 0, 0, ..., 0, 0, 0],\n",
              "       [0, 0, 0, ..., 0, 0, 0],\n",
              "       [0, 0, 0, ..., 0, 0, 0]], dtype=int64)"
            ]
          },
          "execution_count": 40,
          "metadata": {},
          "output_type": "execute_result"
        }
      ],
      "source": [
        "feature[:5].toarray() # convert sparse matrix into array to print transformed features"
      ]
    },
    {
      "cell_type": "markdown",
      "metadata": {
        "id": "fOwjlyc0H9Vv",
        "papermill": {
          "duration": 0.060581,
          "end_time": "2020-11-21T06:34:40.177276",
          "exception": false,
          "start_time": "2020-11-21T06:34:40.116695",
          "status": "completed"
        },
        "tags": []
      },
      "source": [
        "#### * Spliting the data "
      ]
    },
    {
      "cell_type": "code",
      "execution_count": 41,
      "metadata": {
        "execution": {
          "iopub.execute_input": "2020-11-21T06:34:40.304354Z",
          "iopub.status.busy": "2020-11-21T06:34:40.303706Z",
          "iopub.status.idle": "2020-11-21T06:34:40.410343Z",
          "shell.execute_reply": "2020-11-21T06:34:40.410845Z"
        },
        "id": "qXbV0AS8H9Vv",
        "papermill": {
          "duration": 0.173062,
          "end_time": "2020-11-21T06:34:40.411010",
          "exception": false,
          "start_time": "2020-11-21T06:34:40.237948",
          "status": "completed"
        },
        "tags": []
      },
      "outputs": [],
      "source": [
        "trainX, testX, trainY, testY = train_test_split(feature, phish_data.Label)"
      ]
    },
    {
      "cell_type": "markdown",
      "metadata": {
        "id": "5e-xC9_5H9Vw",
        "papermill": {
          "duration": 0.064856,
          "end_time": "2020-11-21T06:34:40.537020",
          "exception": false,
          "start_time": "2020-11-21T06:34:40.472164",
          "status": "completed"
        },
        "tags": []
      },
      "source": [
        "### LogisticRegression\n",
        "* Logistic Regression is a Machine Learning classification algorithm that is used to predict the probability of a categorical dependent variable. In logistic regression, the dependent variable is a binary variable that contains data coded as 1 (yes, success, etc.) or 0 (no, failure, etc.). In other words, the logistic regression model predicts P(Y=1) as a function of X."
      ]
    },
    {
      "cell_type": "code",
      "execution_count": 42,
      "metadata": {
        "execution": {
          "iopub.execute_input": "2020-11-21T06:34:40.664136Z",
          "iopub.status.busy": "2020-11-21T06:34:40.663497Z",
          "iopub.status.idle": "2020-11-21T06:34:40.666436Z",
          "shell.execute_reply": "2020-11-21T06:34:40.666904Z"
        },
        "id": "4yJf8VqGH9Vw",
        "papermill": {
          "duration": 0.069084,
          "end_time": "2020-11-21T06:34:40.667050",
          "exception": false,
          "start_time": "2020-11-21T06:34:40.597966",
          "status": "completed"
        },
        "tags": []
      },
      "outputs": [],
      "source": [
        "# create lr object\n",
        "lr = LogisticRegression()"
      ]
    },
    {
      "cell_type": "code",
      "execution_count": 43,
      "metadata": {
        "colab": {
          "base_uri": "https://localhost:8080/"
        },
        "execution": {
          "iopub.execute_input": "2020-11-21T06:34:40.794259Z",
          "iopub.status.busy": "2020-11-21T06:34:40.793614Z",
          "iopub.status.idle": "2020-11-21T06:34:51.892855Z",
          "shell.execute_reply": "2020-11-21T06:34:51.892196Z"
        },
        "id": "XZYg5Y_yH9Vw",
        "outputId": "5c1321a3-d723-46ad-e47a-2c07faf67d06",
        "papermill": {
          "duration": 11.164513,
          "end_time": "2020-11-21T06:34:51.892975",
          "exception": false,
          "start_time": "2020-11-21T06:34:40.728462",
          "status": "completed"
        },
        "tags": []
      },
      "outputs": [
        {
          "data": {
            "text/plain": [
              "LogisticRegression()"
            ]
          },
          "execution_count": 43,
          "metadata": {},
          "output_type": "execute_result"
        }
      ],
      "source": [
        "lr.fit(trainX,trainY)"
      ]
    },
    {
      "cell_type": "code",
      "execution_count": 44,
      "metadata": {
        "colab": {
          "base_uri": "https://localhost:8080/"
        },
        "execution": {
          "iopub.execute_input": "2020-11-21T06:34:52.021905Z",
          "iopub.status.busy": "2020-11-21T06:34:52.021286Z",
          "iopub.status.idle": "2020-11-21T06:34:52.386734Z",
          "shell.execute_reply": "2020-11-21T06:34:52.385863Z"
        },
        "id": "pGvbPIpFH9Vw",
        "outputId": "a1286a70-2036-4182-ed84-b099be96f2dd",
        "papermill": {
          "duration": 0.431883,
          "end_time": "2020-11-21T06:34:52.386854",
          "exception": false,
          "start_time": "2020-11-21T06:34:51.954971",
          "status": "completed"
        },
        "tags": []
      },
      "outputs": [
        {
          "data": {
            "text/plain": [
              "0.9633529201890241"
            ]
          },
          "execution_count": 44,
          "metadata": {},
          "output_type": "execute_result"
        }
      ],
      "source": [
        "lr.score(testX,testY)"
      ]
    },
    {
      "cell_type": "markdown",
      "metadata": {
        "id": "37-p1QtHH9Vw",
        "papermill": {
          "duration": 0.061787,
          "end_time": "2020-11-21T06:34:52.510156",
          "exception": false,
          "start_time": "2020-11-21T06:34:52.448369",
          "status": "completed"
        },
        "tags": []
      },
      "source": [
        ".*** Logistic Regression is giving 96% accuracy, Now we will store scores in dict to see which model perform best**"
      ]
    },
    {
      "cell_type": "code",
      "execution_count": 45,
      "metadata": {
        "execution": {
          "iopub.execute_input": "2020-11-21T06:34:52.638783Z",
          "iopub.status.busy": "2020-11-21T06:34:52.638167Z",
          "iopub.status.idle": "2020-11-21T06:34:52.995333Z",
          "shell.execute_reply": "2020-11-21T06:34:52.995800Z"
        },
        "id": "6QbGJ9b7H9Vw",
        "papermill": {
          "duration": 0.424014,
          "end_time": "2020-11-21T06:34:52.995954",
          "exception": false,
          "start_time": "2020-11-21T06:34:52.571940",
          "status": "completed"
        },
        "tags": []
      },
      "outputs": [],
      "source": [
        "Scores_ml = {}\n",
        "Scores_ml['Logistic Regression'] = np.round(lr.score(testX,testY),2)"
      ]
    },
    {
      "cell_type": "code",
      "execution_count": 46,
      "metadata": {
        "colab": {
          "base_uri": "https://localhost:8080/",
          "height": 560
        },
        "execution": {
          "iopub.execute_input": "2020-11-21T06:34:53.128905Z",
          "iopub.status.busy": "2020-11-21T06:34:53.128237Z",
          "iopub.status.idle": "2020-11-21T06:35:02.089530Z",
          "shell.execute_reply": "2020-11-21T06:35:02.088863Z"
        },
        "id": "iCwU2JevH9Vw",
        "outputId": "3ba4b8e8-bb21-49c3-b50f-c2f61a7ca512",
        "papermill": {
          "duration": 9.031138,
          "end_time": "2020-11-21T06:35:02.089643",
          "exception": false,
          "start_time": "2020-11-21T06:34:53.058505",
          "status": "completed"
        },
        "tags": []
      },
      "outputs": [
        {
          "name": "stdout",
          "output_type": "stream",
          "text": [
            "Training Accuracy : 0.9767602164030398\n",
            "Testing Accuracy : 0.9633529201890241\n",
            "\n",
            "CLASSIFICATION REPORT\n",
            "\n",
            "              precision    recall  f1-score   support\n",
            "\n",
            "         Bad       0.90      0.97      0.93     36559\n",
            "        Good       0.99      0.96      0.97    100778\n",
            "\n",
            "    accuracy                           0.96    137337\n",
            "   macro avg       0.95      0.96      0.95    137337\n",
            "weighted avg       0.96      0.96      0.96    137337\n",
            "\n",
            "\n",
            "CONFUSION MATRIX\n"
          ]
        },
        {
          "data": {
            "text/plain": [
              "<AxesSubplot:>"
            ]
          },
          "execution_count": 46,
          "metadata": {},
          "output_type": "execute_result"
        },
        {
          "data": {
            "image/png": "[encoded data removed]",
            "text/plain": [
              "<Figure size 432x288 with 2 Axes>"
            ]
          },
          "metadata": {
            "needs_background": "light"
          },
          "output_type": "display_data"
        }
      ],
      "source": [
        "print('Training Accuracy :',lr.score(trainX,trainY))\n",
        "print('Testing Accuracy :',lr.score(testX,testY))\n",
        "con_mat = pd.DataFrame(confusion_matrix(lr.predict(testX), testY),\n",
        "            columns = ['Predicted:Bad', 'Predicted:Good'],\n",
        "            index = ['Actual:Bad', 'Actual:Good'])\n",
        "\n",
        "\n",
        "print('\\nCLASSIFICATION REPORT\\n')\n",
        "print(classification_report(lr.predict(testX), testY,\n",
        "                            target_names =['Bad','Good']))\n",
        "\n",
        "print('\\nCONFUSION MATRIX')\n",
        "plt.figure(figsize= (6,4))\n",
        "sns.heatmap(con_mat, annot = True,fmt='d',cmap=\"YlGnBu\")"
      ]
    },
    {
      "cell_type": "markdown",
      "metadata": {
        "id": "Wj2Nz-q9H9Vw",
        "papermill": {
          "duration": 0.065148,
          "end_time": "2020-11-21T06:35:02.228145",
          "exception": false,
          "start_time": "2020-11-21T06:35:02.162997",
          "status": "completed"
        },
        "tags": []
      },
      "source": [
        "### MultinomialNB\n",
        "* Applying Multinomial Naive Bayes to NLP Problems. Naive Bayes Classifier Algorithm is a family of probabilistic algorithms based on applying Bayes' theorem with the “naive” assumption of conditional independence between every pair of a feature."
      ]
    },
    {
      "cell_type": "code",
      "execution_count": 47,
      "metadata": {
        "execution": {
          "iopub.execute_input": "2020-11-21T06:35:02.365288Z",
          "iopub.status.busy": "2020-11-21T06:35:02.364604Z",
          "iopub.status.idle": "2020-11-21T06:35:02.368130Z",
          "shell.execute_reply": "2020-11-21T06:35:02.367414Z"
        },
        "id": "kZjjOHpsH9Vw",
        "papermill": {
          "duration": 0.073474,
          "end_time": "2020-11-21T06:35:02.368259",
          "exception": false,
          "start_time": "2020-11-21T06:35:02.294785",
          "status": "completed"
        },
        "tags": []
      },
      "outputs": [],
      "source": [
        "# create mnb object\n",
        "mnb = MultinomialNB()"
      ]
    },
    {
      "cell_type": "code",
      "execution_count": 48,
      "metadata": {
        "colab": {
          "base_uri": "https://localhost:8080/"
        },
        "execution": {
          "iopub.execute_input": "2020-11-21T06:35:02.510043Z",
          "iopub.status.busy": "2020-11-21T06:35:02.509013Z",
          "iopub.status.idle": "2020-11-21T06:35:04.246384Z",
          "shell.execute_reply": "2020-11-21T06:35:04.245735Z"
        },
        "id": "4ZprWJG3H9Vw",
        "outputId": "cb4b0ef4-386b-414e-8c5b-98048a5ab5d6",
        "papermill": {
          "duration": 1.813507,
          "end_time": "2020-11-21T06:35:04.246502",
          "exception": false,
          "start_time": "2020-11-21T06:35:02.432995",
          "status": "completed"
        },
        "tags": []
      },
      "outputs": [
        {
          "data": {
            "text/plain": [
              "MultinomialNB()"
            ]
          },
          "execution_count": 48,
          "metadata": {},
          "output_type": "execute_result"
        }
      ],
      "source": [
        "mnb.fit(trainX,trainY)"
      ]
    },
    {
      "cell_type": "code",
      "execution_count": 49,
      "metadata": {
        "colab": {
          "base_uri": "https://localhost:8080/"
        },
        "execution": {
          "iopub.execute_input": "2020-11-21T06:35:04.382970Z",
          "iopub.status.busy": "2020-11-21T06:35:04.381839Z",
          "iopub.status.idle": "2020-11-21T06:35:04.740889Z",
          "shell.execute_reply": "2020-11-21T06:35:04.740381Z"
        },
        "id": "S9oHX41wH9Vw",
        "outputId": "8e91279b-fc36-4480-becc-7d2315dad153",
        "papermill": {
          "duration": 0.429142,
          "end_time": "2020-11-21T06:35:04.741008",
          "exception": false,
          "start_time": "2020-11-21T06:35:04.311866",
          "status": "completed"
        },
        "tags": []
      },
      "outputs": [
        {
          "data": {
            "text/plain": [
              "0.9580812162782062"
            ]
          },
          "execution_count": 49,
          "metadata": {},
          "output_type": "execute_result"
        }
      ],
      "source": [
        "mnb.score(testX,testY)"
      ]
    },
    {
      "cell_type": "markdown",
      "metadata": {
        "id": "SV8pWXWgH9Vx",
        "papermill": {
          "duration": 0.066532,
          "end_time": "2020-11-21T06:35:04.873833",
          "exception": false,
          "start_time": "2020-11-21T06:35:04.807301",
          "status": "completed"
        },
        "tags": []
      },
      "source": [
        "*** MultinomialNB gives us 95% accuracy**  "
      ]
    },
    {
      "cell_type": "code",
      "execution_count": 50,
      "metadata": {
        "execution": {
          "iopub.execute_input": "2020-11-21T06:35:05.015114Z",
          "iopub.status.busy": "2020-11-21T06:35:05.014445Z",
          "iopub.status.idle": "2020-11-21T06:35:05.370407Z",
          "shell.execute_reply": "2020-11-21T06:35:05.370862Z"
        },
        "id": "p_PdfmQ_H9Vx",
        "papermill": {
          "duration": 0.428671,
          "end_time": "2020-11-21T06:35:05.371025",
          "exception": false,
          "start_time": "2020-11-21T06:35:04.942354",
          "status": "completed"
        },
        "tags": []
      },
      "outputs": [],
      "source": [
        "Scores_ml['MultinomialNB'] = np.round(mnb.score(testX,testY),2)"
      ]
    },
    {
      "cell_type": "code",
      "execution_count": 51,
      "metadata": {
        "colab": {
          "base_uri": "https://localhost:8080/",
          "height": 560
        },
        "execution": {
          "iopub.execute_input": "2020-11-21T06:35:05.511540Z",
          "iopub.status.busy": "2020-11-21T06:35:05.510811Z",
          "iopub.status.idle": "2020-11-21T06:35:13.125767Z",
          "shell.execute_reply": "2020-11-21T06:35:13.125222Z"
        },
        "id": "--60lJvWH9Vx",
        "outputId": "be1ed1e5-8205-468a-8caf-50193ca2ec89",
        "papermill": {
          "duration": 7.68905,
          "end_time": "2020-11-21T06:35:13.125878",
          "exception": false,
          "start_time": "2020-11-21T06:35:05.436828",
          "status": "completed"
        },
        "tags": []
      },
      "outputs": [
        {
          "name": "stdout",
          "output_type": "stream",
          "text": [
            "Training Accuracy : 0.97402483926322\n",
            "Testing Accuracy : 0.9580812162782062\n",
            "\n",
            "CLASSIFICATION REPORT\n",
            "\n",
            "              precision    recall  f1-score   support\n",
            "\n",
            "         Bad       0.92      0.94      0.93     38285\n",
            "        Good       0.97      0.97      0.97     99052\n",
            "\n",
            "    accuracy                           0.96    137337\n",
            "   macro avg       0.95      0.95      0.95    137337\n",
            "weighted avg       0.96      0.96      0.96    137337\n",
            "\n",
            "\n",
            "CONFUSION MATRIX\n"
          ]
        },
        {
          "data": {
            "text/plain": [
              "<AxesSubplot:>"
            ]
          },
          "execution_count": 51,
          "metadata": {},
          "output_type": "execute_result"
        },
        {
          "data": {
            "image/png": "[encoded data removed]",
            "text/plain": [
              "<Figure size 432x288 with 2 Axes>"
            ]
          },
          "metadata": {
            "needs_background": "light"
          },
          "output_type": "display_data"
        }
      ],
      "source": [
        "print('Training Accuracy :',mnb.score(trainX,trainY))\n",
        "print('Testing Accuracy :',mnb.score(testX,testY))\n",
        "con_mat = pd.DataFrame(confusion_matrix(mnb.predict(testX), testY),\n",
        "            columns = ['Predicted:Bad', 'Predicted:Good'],\n",
        "            index = ['Actual:Bad', 'Actual:Good'])\n",
        "\n",
        "\n",
        "print('\\nCLASSIFICATION REPORT\\n')\n",
        "print(classification_report(mnb.predict(testX), testY,\n",
        "                            target_names =['Bad','Good']))\n",
        "\n",
        "print('\\nCONFUSION MATRIX')\n",
        "plt.figure(figsize= (6,4))\n",
        "sns.heatmap(con_mat, annot = True,fmt='d',cmap=\"YlGnBu\")"
      ]
    },
    {
      "cell_type": "code",
      "execution_count": 52,
      "metadata": {
        "colab": {
          "base_uri": "https://localhost:8080/",
          "height": 282
        },
        "execution": {
          "iopub.execute_input": "2020-11-21T06:35:13.282599Z",
          "iopub.status.busy": "2020-11-21T06:35:13.280962Z",
          "iopub.status.idle": "2020-11-21T06:35:13.395851Z",
          "shell.execute_reply": "2020-11-21T06:35:13.395251Z"
        },
        "id": "sP52dgVPH9Vx",
        "outputId": "f3ce53cd-79df-48d4-a2e8-327f7a00e422",
        "papermill": {
          "duration": 0.202692,
          "end_time": "2020-11-21T06:35:13.395971",
          "exception": false,
          "start_time": "2020-11-21T06:35:13.193279",
          "status": "completed"
        },
        "tags": []
      },
      "outputs": [
        {
          "data": {
            "text/plain": [
              "<AxesSubplot:ylabel='Accuracy'>"
            ]
          },
          "execution_count": 52,
          "metadata": {},
          "output_type": "execute_result"
        },
        {
          "data": {
            "image/png": "[encoded data removed]",
            "text/plain": [
              "<Figure size 432x288 with 1 Axes>"
            ]
          },
          "metadata": {},
          "output_type": "display_data"
        }
      ],
      "source": [
        "acc = pd.DataFrame.from_dict(Scores_ml,orient = 'index',columns=['Accuracy'])\n",
        "sns.set_style('darkgrid')\n",
        "sns.barplot(acc.index,acc.Accuracy)"
      ]
    },
    {
      "cell_type": "markdown",
      "metadata": {
        "id": "AlGPiljzH9Vx",
        "papermill": {
          "duration": 0.073519,
          "end_time": "2020-11-21T06:35:13.541101",
          "exception": false,
          "start_time": "2020-11-21T06:35:13.467582",
          "status": "completed"
        },
        "tags": []
      },
      "source": [
        "*** So, Logistic Regression is the best fit model, Now we make sklearn pipeline using Logistic Regression**"
      ]
    },
    {
      "cell_type": "code",
      "execution_count": 53,
      "metadata": {
        "execution": {
          "iopub.execute_input": "2020-11-21T06:35:13.687266Z",
          "iopub.status.busy": "2020-11-21T06:35:13.686391Z",
          "iopub.status.idle": "2020-11-21T06:35:13.689254Z",
          "shell.execute_reply": "2020-11-21T06:35:13.688722Z"
        },
        "id": "5eqxzs-JH9Vx",
        "papermill": {
          "duration": 0.077319,
          "end_time": "2020-11-21T06:35:13.689366",
          "exception": false,
          "start_time": "2020-11-21T06:35:13.612047",
          "status": "completed"
        },
        "tags": []
      },
      "outputs": [],
      "source": [
        "pipeline_ls = make_pipeline(CountVectorizer(tokenizer = RegexpTokenizer(r'[A-Za-z]+').tokenize,stop_words='english'), LogisticRegression())\n",
        "##(r'\\b(?:http|ftp)s?://\\S*\\w|\\w+|[^\\w\\s]+') ([a-zA-Z]+)([0-9]+)  -- these tolenizers giving me low accuray "
      ]
    },
    {
      "cell_type": "code",
      "execution_count": 54,
      "metadata": {
        "execution": {
          "iopub.execute_input": "2020-11-21T06:35:13.833473Z",
          "iopub.status.busy": "2020-11-21T06:35:13.832827Z",
          "iopub.status.idle": "2020-11-21T06:35:13.957862Z",
          "shell.execute_reply": "2020-11-21T06:35:13.957169Z"
        },
        "id": "A6nJ8EUeH9Vx",
        "papermill": {
          "duration": 0.199152,
          "end_time": "2020-11-21T06:35:13.957979",
          "exception": false,
          "start_time": "2020-11-21T06:35:13.758827",
          "status": "completed"
        },
        "tags": []
      },
      "outputs": [],
      "source": [
        "trainX, testX, trainY, testY = train_test_split(phish_data.URL, phish_data.Label)"
      ]
    },
    {
      "cell_type": "code",
      "execution_count": 55,
      "metadata": {
        "colab": {
          "base_uri": "https://localhost:8080/"
        },
        "execution": {
          "iopub.execute_input": "2020-11-21T06:35:14.135741Z",
          "iopub.status.busy": "2020-11-21T06:35:14.125427Z",
          "iopub.status.idle": "2020-11-21T06:35:30.594391Z",
          "shell.execute_reply": "2020-11-21T06:35:30.593865Z"
        },
        "id": "5L0kEe_TH9Vx",
        "outputId": "cc84772b-e297-4241-fd2c-7e7ef9ef2150",
        "papermill": {
          "duration": 16.567297,
          "end_time": "2020-11-21T06:35:30.594512",
          "exception": false,
          "start_time": "2020-11-21T06:35:14.027215",
          "status": "completed"
        },
        "tags": []
      },
      "outputs": [
        {
          "data": {
            "text/plain": [
              "Pipeline(steps=[('countvectorizer',\n",
              "                 CountVectorizer(stop_words='english',\n",
              "                                 tokenizer=<bound method RegexpTokenizer.tokenize of RegexpTokenizer(pattern='[A-Za-z]+', gaps=False, discard_empty=True, flags=re.UNICODE|re.MULTILINE|re.DOTALL)>)),\n",
              "                ('logisticregression', LogisticRegression())])"
            ]
          },
          "execution_count": 55,
          "metadata": {},
          "output_type": "execute_result"
        }
      ],
      "source": [
        "pipeline_ls.fit(trainX,trainY)"
      ]
    },
    {
      "cell_type": "code",
      "execution_count": 56,
      "metadata": {
        "colab": {
          "base_uri": "https://localhost:8080/"
        },
        "execution": {
          "iopub.execute_input": "2020-11-21T06:35:30.751490Z",
          "iopub.status.busy": "2020-11-21T06:35:30.746381Z",
          "iopub.status.idle": "2020-11-21T06:35:32.670107Z",
          "shell.execute_reply": "2020-11-21T06:35:32.670553Z"
        },
        "id": "v7AikVbVH9Vx",
        "outputId": "d0532848-f260-45cc-894e-42f415e4b975",
        "papermill": {
          "duration": 2.006921,
          "end_time": "2020-11-21T06:35:32.670696",
          "exception": false,
          "start_time": "2020-11-21T06:35:30.663775",
          "status": "completed"
        },
        "tags": []
      },
      "outputs": [
        {
          "data": {
            "text/plain": [
              "0.9650349141163707"
            ]
          },
          "execution_count": 56,
          "metadata": {},
          "output_type": "execute_result"
        }
      ],
      "source": [
        "pipeline_ls.score(testX,testY) "
      ]
    },
    {
      "cell_type": "code",
      "execution_count": 57,
      "metadata": {
        "colab": {
          "base_uri": "https://localhost:8080/",
          "height": 560
        },
        "execution": {
          "iopub.execute_input": "2020-11-21T06:35:32.838606Z",
          "iopub.status.busy": "2020-11-21T06:35:32.833492Z",
          "iopub.status.idle": "2020-11-21T06:35:51.122170Z",
          "shell.execute_reply": "2020-11-21T06:35:51.122631Z"
        },
        "id": "CCJLqrXZH9Vx",
        "outputId": "599a99b9-2ace-4cd9-ac71-de8797bc9ac0",
        "papermill": {
          "duration": 18.382175,
          "end_time": "2020-11-21T06:35:51.122787",
          "exception": false,
          "start_time": "2020-11-21T06:35:32.740612",
          "status": "completed"
        },
        "tags": []
      },
      "outputs": [
        {
          "name": "stdout",
          "output_type": "stream",
          "text": [
            "Training Accuracy : 0.9797625780019369\n",
            "Testing Accuracy : 0.9650349141163707\n",
            "\n",
            "CLASSIFICATION REPORT\n",
            "\n",
            "              precision    recall  f1-score   support\n",
            "\n",
            "         Bad       0.91      0.97      0.94     36611\n",
            "        Good       0.99      0.96      0.98    100726\n",
            "\n",
            "    accuracy                           0.97    137337\n",
            "   macro avg       0.95      0.97      0.96    137337\n",
            "weighted avg       0.97      0.97      0.97    137337\n",
            "\n",
            "\n",
            "CONFUSION MATRIX\n"
          ]
        },
        {
          "data": {
            "text/plain": [
              "<AxesSubplot:>"
            ]
          },
          "execution_count": 57,
          "metadata": {},
          "output_type": "execute_result"
        },
        {
          "data": {
            "image/png": "[encoded data removed]",
            "text/plain": [
              "<Figure size 432x288 with 2 Axes>"
            ]
          },
          "metadata": {},
          "output_type": "display_data"
        }
      ],
      "source": [
        "print('Training Accuracy :',pipeline_ls.score(trainX,trainY))\n",
        "print('Testing Accuracy :',pipeline_ls.score(testX,testY))\n",
        "con_mat = pd.DataFrame(confusion_matrix(pipeline_ls.predict(testX), testY),\n",
        "            columns = ['Predicted:Bad', 'Predicted:Good'],\n",
        "            index = ['Actual:Bad', 'Actual:Good'])\n",
        "\n",
        "\n",
        "print('\\nCLASSIFICATION REPORT\\n')\n",
        "print(classification_report(pipeline_ls.predict(testX), testY,\n",
        "                            target_names =['Bad','Good']))\n",
        "\n",
        "print('\\nCONFUSION MATRIX')\n",
        "plt.figure(figsize= (6,4))\n",
        "sns.heatmap(con_mat, annot = True,fmt='d',cmap=\"YlGnBu\")"
      ]
    },
    {
      "cell_type": "code",
      "execution_count": 58,
      "metadata": {
        "execution": {
          "iopub.execute_input": "2020-11-21T06:35:51.380431Z",
          "iopub.status.busy": "2020-11-21T06:35:51.272141Z",
          "iopub.status.idle": "2020-11-21T06:35:51.397402Z",
          "shell.execute_reply": "2020-11-21T06:35:51.396673Z"
        },
        "id": "4BphlTsOH9Vy",
        "papermill": {
          "duration": 0.201708,
          "end_time": "2020-11-21T06:35:51.397519",
          "exception": false,
          "start_time": "2020-11-21T06:35:51.195811",
          "status": "completed"
        },
        "tags": []
      },
      "outputs": [],
      "source": [
        "pickle.dump(pipeline_ls,open('phishing.pkl','wb'))"
      ]
    },
    {
      "cell_type": "code",
      "execution_count": 59,
      "metadata": {
        "colab": {
          "base_uri": "https://localhost:8080/"
        },
        "execution": {
          "iopub.execute_input": "2020-11-21T06:35:51.560839Z",
          "iopub.status.busy": "2020-11-21T06:35:51.559606Z",
          "iopub.status.idle": "2020-11-21T06:35:53.606457Z",
          "shell.execute_reply": "2020-11-21T06:35:53.606964Z"
        },
        "id": "1mp6ReifH9Vy",
        "outputId": "77f6ab20-584e-48cb-b423-fdc4023b8ed3",
        "papermill": {
          "duration": 2.137195,
          "end_time": "2020-11-21T06:35:53.607124",
          "exception": false,
          "start_time": "2020-11-21T06:35:51.469929",
          "status": "completed"
        },
        "tags": []
      },
      "outputs": [
        {
          "name": "stdout",
          "output_type": "stream",
          "text": [
            "0.9650349141163707\n"
          ]
        }
      ],
      "source": [
        "loaded_model = pickle.load(open('phishing.pkl', 'rb'))\n",
        "result = loaded_model.score(testX,testY)\n",
        "print(result)"
      ]
    },
    {
      "cell_type": "markdown",
      "metadata": {
        "id": "V2kceqquH9Vy",
        "papermill": {
          "duration": 0.071857,
          "end_time": "2020-11-21T06:35:53.751365",
          "exception": false,
          "start_time": "2020-11-21T06:35:53.679508",
          "status": "completed"
        },
        "tags": []
      },
      "source": [
        "***That’s it. See, it's that simple yet so effective. We get an accuracy of 98%. That’s a very high value for a machine to be able to detect a malicious URL with. Want to test some links to see if the model gives good predictions? Sure. Let's do it**"
      ]
    },
    {
      "cell_type": "markdown",
      "metadata": {
        "id": "ZycLFsrPH9Vy",
        "papermill": {
          "duration": 0.07137,
          "end_time": "2020-11-21T06:35:53.894609",
          "exception": false,
          "start_time": "2020-11-21T06:35:53.823239",
          "status": "completed"
        },
        "tags": []
      },
      "source": [
        "* Bad links => this are phishing sites\n",
        "yeniik.com.tr/wp-admin/js/login.alibaba.com/login.jsp.php\n",
        "fazan-pacir.rs/temp/libraries/ipad\n",
        "www.tubemoviez.exe\n",
        "svision-online.de/mgfi/administrator/components/com_babackup/classes/fx29id1.txt\n",
        "\n",
        "* Good links => this are not phishing sites\n",
        "www.youtube.com/\n",
        "youtube.com/watch?v=qI0TQJI3vdU\n",
        "www.retailhellunderground.com/\n",
        "restorevisioncenters.com/html/technology.html"
      ]
    },
    {
      "cell_type": "code",
      "execution_count": 60,
      "metadata": {
        "colab": {
          "base_uri": "https://localhost:8080/"
        },
        "execution": {
          "iopub.execute_input": "2020-11-21T06:35:54.050796Z",
          "iopub.status.busy": "2020-11-21T06:35:54.046721Z",
          "iopub.status.idle": "2020-11-21T06:35:54.175436Z",
          "shell.execute_reply": "2020-11-21T06:35:54.174713Z"
        },
        "id": "VjY7Hx3GH9Vy",
        "outputId": "639cf5ec-9d39-4c38-bd9c-7bb7d4193807",
        "papermill": {
          "duration": 0.208585,
          "end_time": "2020-11-21T06:35:54.175559",
          "exception": false,
          "start_time": "2020-11-21T06:35:53.966974",
          "status": "completed"
        },
        "tags": []
      },
      "outputs": [
        {
          "name": "stdout",
          "output_type": "stream",
          "text": [
            "['bad' 'bad' 'bad' 'bad']\n",
            "******************************\n",
            "['good' 'good' 'good' 'good']\n"
          ]
        }
      ],
      "source": [
        "predict_bad = ['yeniik.com.tr/wp-admin/js/login.alibaba.com/login.jsp.php','fazan-pacir.rs/temp/libraries/ipad','tubemoviez.exe','svision-online.de/mgfi/administrator/components/com_babackup/classes/fx29id1.txt']\n",
        "predict_good = ['youtube.com/','youtube.com/watch?v=qI0TQJI3vdU','retailhellunderground.com/','restorevisioncenters.com/html/technology.html']\n",
        "loaded_model = pickle.load(open('phishing.pkl', 'rb'))\n",
        "#predict_bad = vectorizers.transform(predict_bad)\n",
        "# predict_good = vectorizer.transform(predict_good)\n",
        "result = loaded_model.predict(predict_bad)\n",
        "result2 = loaded_model.predict(predict_good)\n",
        "print(result)\n",
        "print(\"*\"*30)\n",
        "print(result2)"
      ]
    }
  ],
  "metadata": {
    "accelerator": "GPU",
    "colab": {
      "collapsed_sections": [],
      "name": "phishing demo1 .ipynb",
      "provenance": []
    },
    "kernelspec": {
      "display_name": "Python 3.10.6 64-bit",
      "language": "python",
      "name": "python3"
    },
    "language_info": {
      "codemirror_mode": {
        "name": "ipython",
        "version": 3
      },
      "file_extension": ".py",
      "mimetype": "text/x-python",
      "name": "python",
      "nbconvert_exporter": "python",
      "pygments_lexer": "ipython3",
      "version": "3.10.6"
    },
    "papermill": {
      "duration": 165.756178,
      "end_time": "2020-11-21T06:35:54.645788",
      "environment_variables": {},
      "exception": null,
      "input_path": "__notebook__.ipynb",
      "output_path": "__notebook__.ipynb",
      "parameters": {},
      "start_time": "2020-11-21T06:33:08.889610",
      "version": "2.1.0"
    },
    "vscode": {
      "interpreter": {
        "hash": "31f2aee4e71d21fbe5cf8b01ff0e069b9275f58929596ceb00d14d90e3e16cd6"
      }
    }
  },
  "nbformat": 4,
  "nbformat_minor": 0
}
